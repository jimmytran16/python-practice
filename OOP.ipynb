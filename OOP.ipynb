{
 "cells": [
  {
   "cell_type": "code",
   "execution_count": 6,
   "metadata": {},
   "outputs": [
    {
     "name": "stdout",
     "output_type": "stream",
     "text": [
      "The person's name is Jimmy Tran\n"
     ]
    }
   ],
   "source": [
    "class Person:\n",
    "    # contructor function to allow you create an instance of the object Person - \n",
    "    def __init__(self,name,age):\n",
    "        # attribbutes\n",
    "        # take in argument and assign it to age , and name\n",
    "        self.name = name\n",
    "        self.age = age\n",
    "    # func to print the name value of that instance\n",
    "    def sayname(self):\n",
    "        print(f\"The person's name is {self.name}\")\n",
    "    # print age of that instance\n",
    "    def sayage(self):\n",
    "        print(f\"The person's age is {self.age}!\")\n",
    "\n",
    "person1 = Person('Jimmy Tran',12)\n",
    "person1.sayname()\n"
   ]
  },
  {
   "cell_type": "code",
   "execution_count": 7,
   "metadata": {},
   "outputs": [
    {
     "data": {
      "text/plain": [
       "__main__.Person"
      ]
     },
     "execution_count": 7,
     "metadata": {},
     "output_type": "execute_result"
    }
   ],
   "source": [
    "type(person1)"
   ]
  },
  {
   "cell_type": "code",
   "execution_count": 11,
   "metadata": {},
   "outputs": [],
   "source": [
    "person2 = Person(name= 'Jimmy', age = 13)"
   ]
  },
  {
   "cell_type": "code",
   "execution_count": 24,
   "metadata": {},
   "outputs": [
    {
     "data": {
      "text/plain": [
       "25.12"
      ]
     },
     "execution_count": 24,
     "metadata": {},
     "output_type": "execute_result"
    }
   ],
   "source": [
    "class Circle:\n",
    "    #Class object attribute = Will always be the same in all instances\n",
    "    pi = 3.14\n",
    "    # defining default parameter as 1\n",
    "    def __init__(self,radius=1):\n",
    "        self.radius = radius\n",
    "    def get_circumfrance(self):\n",
    "        return self.radius * self.pi * 2\n",
    "c1 = Circle() # init a instance of circle class\n",
    "c1.radius = 4 # assign 4 to the radius attribute of the instance\n",
    "c1.get_circumfrance() # call func to get circumfrance of the circle"
   ]
  },
  {
   "cell_type": "code",
   "execution_count": 30,
   "metadata": {},
   "outputs": [
    {
     "name": "stdout",
     "output_type": "stream",
     "text": [
      "This is the dog class\n",
      "This is the inherited function!\n"
     ]
    }
   ],
   "source": [
    "# INHERITENCE\n",
    "class Animal:\n",
    "    def __init__(self):\n",
    "        print('This is the animal class')\n",
    "    def funcFromAnimalToDog(self):\n",
    "        print('This is the inherited function!')\n",
    "\n",
    "class Dog(Animal): # class Dog inherits the Animal class\n",
    "    def __init__(self):\n",
    "        print('This is the dog class')\n",
    "dog = Dog()\n",
    "dog.funcFromAnimalToDog() # can call the func from the Animal class because the dog \n",
    "# class extends the Animal class"
   ]
  },
  {
   "cell_type": "code",
   "execution_count": 35,
   "metadata": {},
   "outputs": [],
   "source": [
    "# POLYMORPHISM\n",
    "class Dog:\n",
    "    def __init__(self,name):\n",
    "        self.name = name\n",
    "    def speak(self):\n",
    "        return self.name + \" says woof!\"\n",
    "class Cat:\n",
    "    def __init__(self,name):\n",
    "        self.name = name\n",
    "    def speak(self):\n",
    "        return self.name + ' says meow!'\n",
    "niko = Dog('niko')\n",
    "felix = Cat('felix')"
   ]
  },
  {
   "cell_type": "code",
   "execution_count": 36,
   "metadata": {},
   "outputs": [
    {
     "name": "stdout",
     "output_type": "stream",
     "text": [
      "niko says woof!\n"
     ]
    }
   ],
   "source": [
    "print(niko.speak())"
   ]
  },
  {
   "cell_type": "code",
   "execution_count": 37,
   "metadata": {},
   "outputs": [
    {
     "name": "stdout",
     "output_type": "stream",
     "text": [
      "<class '__main__.Dog'>\n",
      "<class 'method'>\n",
      "<class '__main__.Cat'>\n",
      "<class 'method'>\n"
     ]
    }
   ],
   "source": [
    "for pet_class in [niko,felix]:\n",
    "    print(type(pet_class))\n",
    "    print(type(pet_class.speak))"
   ]
  },
  {
   "cell_type": "code",
   "execution_count": 38,
   "metadata": {},
   "outputs": [],
   "source": [
    "def pet_speak(pet):\n",
    "    print(pet.speak())\n",
    "    "
   ]
  },
  {
   "cell_type": "code",
   "execution_count": 39,
   "metadata": {},
   "outputs": [
    {
     "name": "stdout",
     "output_type": "stream",
     "text": [
      "niko says woof!\n"
     ]
    }
   ],
   "source": [
    "pet_speak(niko)"
   ]
  },
  {
   "cell_type": "code",
   "execution_count": 48,
   "metadata": {},
   "outputs": [
    {
     "data": {
      "text/plain": [
       "'The Cat meows!'"
      ]
     },
     "execution_count": 48,
     "metadata": {},
     "output_type": "execute_result"
    }
   ],
   "source": [
    "class Animal:\n",
    "    def __init__ (self,name):\n",
    "        self.name = name\n",
    "    def speak(self):\n",
    "        raise NotImplementedError('Subclass must be inplement this abstract method')\n",
    "class Dog(Animal): #subclass extends Animal and then implements the speak() method\n",
    "    def __init__ (self,name):\n",
    "        self.name = name\n",
    "    def speak(self):\n",
    "        return self.name + ' woofs!'\n",
    "class Cat(Animal): #subclass extends Animal and then implements the speak() method\n",
    "    def __init__ (self,name):\n",
    "        self.name = name\n",
    "    def speak(self):\n",
    "        return self.name + ' meows!'    \n",
    "dog = Dog('Clifford')\n",
    "dog.speak()\n",
    "cat = Cat('The Cat')\n",
    "cat.speak()"
   ]
  },
  {
   "cell_type": "code",
   "execution_count": null,
   "metadata": {},
   "outputs": [],
   "source": []
  }
 ],
 "metadata": {
  "kernelspec": {
   "display_name": "Python 3",
   "language": "python",
   "name": "python3"
  },
  "language_info": {
   "codemirror_mode": {
    "name": "ipython",
    "version": 3
   },
   "file_extension": ".py",
   "mimetype": "text/x-python",
   "name": "python",
   "nbconvert_exporter": "python",
   "pygments_lexer": "ipython3",
   "version": "3.7.4"
  }
 },
 "nbformat": 4,
 "nbformat_minor": 2
}
