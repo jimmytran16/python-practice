{
 "cells": [
  {
   "cell_type": "code",
   "execution_count": 3,
   "metadata": {},
   "outputs": [
    {
     "name": "stdout",
     "output_type": "stream",
     "text": [
      "J\n",
      "i\n",
      "y\n"
     ]
    }
   ],
   "source": [
    "# if m then it will continue, meaning of back to the loop\n",
    "thisString ='Jimmy'\n",
    "for i in thisString:\n",
    "    if i =='m':\n",
    "        continue\n",
    "    print(i)"
   ]
  },
  {
   "cell_type": "code",
   "execution_count": 4,
   "metadata": {},
   "outputs": [
    {
     "name": "stdout",
     "output_type": "stream",
     "text": [
      "J\n",
      "i\n"
     ]
    }
   ],
   "source": [
    "# if leter is m then it breaks out of current loop\n",
    "thisString ='Jimmy'\n",
    "for i in thisString:\n",
    "    if i =='m':\n",
    "        break\n",
    "    print(i)"
   ]
  },
  {
   "cell_type": "code",
   "execution_count": 5,
   "metadata": {},
   "outputs": [
    {
     "name": "stdout",
     "output_type": "stream",
     "text": [
      "hello world!\n"
     ]
    }
   ],
   "source": [
    "# will pass the for loop without error\n",
    "for i in thisString:\n",
    "    pass\n",
    "print('hello world!')"
   ]
  },
  {
   "cell_type": "code",
   "execution_count": 11,
   "metadata": {},
   "outputs": [
    {
     "name": "stdout",
     "output_type": "stream",
     "text": [
      "0\n",
      "1\n",
      "2\n",
      "3\n",
      "4\n",
      "5\n",
      "6\n",
      "7\n",
      "8\n",
      "9\n",
      "10\n",
      "11\n",
      "0\n",
      "2\n",
      "4\n",
      "6\n",
      "8\n",
      "10\n"
     ]
    }
   ],
   "source": [
    "# range\n",
    "for num in range(0,12):\n",
    "    print(num)\n",
    "# will print out all numbers in range, with third arguement(step size), step size = will determine printing intervals\n",
    "# will print out in the range of 0-12 by 2\n",
    "for num in range(0,12,2):\n",
    "    print(num)"
   ]
  },
  {
   "cell_type": "code",
   "execution_count": 13,
   "metadata": {},
   "outputs": [],
   "source": [
    "#cast the range into list \n",
    "range_list = list(range(0,12))"
   ]
  },
  {
   "cell_type": "code",
   "execution_count": 16,
   "metadata": {},
   "outputs": [
    {
     "name": "stdout",
     "output_type": "stream",
     "text": [
      "0\n",
      "1\n",
      "2\n",
      "3\n",
      "4\n",
      "5\n",
      "6\n",
      "7\n",
      "8\n",
      "9\n",
      "10\n",
      "11\n"
     ]
    }
   ],
   "source": [
    "for x in range_list:\n",
    "    print(x)"
   ]
  },
  {
   "cell_type": "code",
   "execution_count": 18,
   "metadata": {},
   "outputs": [
    {
     "name": "stdout",
     "output_type": "stream",
     "text": [
      "(0, 'j')\n",
      "(1, 'i')\n",
      "(2, 'm')\n",
      "(3, 'm')\n",
      "(4, 'y')\n"
     ]
    }
   ],
   "source": [
    "#loop through a string and convert to tuples (index, char element) using the enumerate function\n",
    "name = 'jimmy'\n",
    "for x in enumerate(name):\n",
    "    print(x)"
   ]
  },
  {
   "cell_type": "code",
   "execution_count": 24,
   "metadata": {},
   "outputs": [
    {
     "name": "stdout",
     "output_type": "stream",
     "text": [
      "(1, 't')\n",
      "(2, 'r')\n",
      "(3, 'a')\n",
      "(4, 'n')\n"
     ]
    }
   ],
   "source": [
    "# using the zip function to merge lists together into tuple\n",
    "# can merge more than one lists \n",
    "# if there are overlapping elements, then it will ignore \n",
    "list1= [1,2,3,4]\n",
    "list2=['t','r','a','n']\n",
    "for i in zip(list1,list2):\n",
    "    print(i)"
   ]
  },
  {
   "cell_type": "code",
   "execution_count": 31,
   "metadata": {},
   "outputs": [
    {
     "data": {
      "text/plain": [
       "False"
      ]
     },
     "execution_count": 31,
     "metadata": {},
     "output_type": "execute_result"
    }
   ],
   "source": [
    "#check if something is in a list\n",
    "x = ['j','w','e']\n",
    "'e' in x\n",
    "#check in dictionary\n",
    "xdict = {'mykey':234,'yourkey':123}\n",
    "'mykey' in {'mykey':234,'yourkey':123}\n",
    "#check if a value exist in dictionary\n",
    "234 in xdict.values()\n",
    "#chec if a key exists in a dictionary\n",
    "\"hisKey\" in xdict.keys()"
   ]
  },
  {
   "cell_type": "code",
   "execution_count": 34,
   "metadata": {},
   "outputs": [
    {
     "name": "stdout",
     "output_type": "stream",
     "text": [
      "5 1\n"
     ]
    }
   ],
   "source": [
    "# use max and min functions\n",
    "list = [1,2,3,4,5,5]\n",
    "print(max(list),min(list))"
   ]
  },
  {
   "cell_type": "code",
   "execution_count": 40,
   "metadata": {},
   "outputs": [
    {
     "name": "stdout",
     "output_type": "stream",
     "text": [
      "[2, 7, 8, 1, 4, 5, 9, 6, 3]\n"
     ]
    }
   ],
   "source": [
    "#use random library to use shuffle function. This function only shuffles current list, doesn't return anything\n",
    "from random import shuffle\n",
    "mylist = [1,2,3,4,5,6,7,8,9]\n",
    "shuffle(mylist)\n",
    "print(mylist)\n"
   ]
  },
  {
   "cell_type": "code",
   "execution_count": 1,
   "metadata": {},
   "outputs": [],
   "source": [
    "myString = \"jimmy\"\n",
    "mylist = []\n",
    "for i in myString:\n",
    "    mylist.append(i)"
   ]
  },
  {
   "cell_type": "code",
   "execution_count": 2,
   "metadata": {},
   "outputs": [
    {
     "name": "stdout",
     "output_type": "stream",
     "text": [
      "['j', 'i', 'm', 'm', 'y']\n"
     ]
    }
   ],
   "source": [
    "print(mylist)"
   ]
  },
  {
   "cell_type": "code",
   "execution_count": null,
   "metadata": {},
   "outputs": [],
   "source": []
  }
 ],
 "metadata": {
  "kernelspec": {
   "display_name": "Python 3",
   "language": "python",
   "name": "python3"
  },
  "language_info": {
   "codemirror_mode": {
    "name": "ipython",
    "version": 3
   },
   "file_extension": ".py",
   "mimetype": "text/x-python",
   "name": "python",
   "nbconvert_exporter": "python",
   "pygments_lexer": "ipython3",
   "version": "3.7.4"
  }
 },
 "nbformat": 4,
 "nbformat_minor": 2
}
