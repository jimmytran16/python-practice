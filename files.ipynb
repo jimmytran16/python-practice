{
 "cells": [
  {
   "cell_type": "code",
   "execution_count": 3,
   "metadata": {},
   "outputs": [],
   "source": [
    "myfile = open('myfile.txt')"
   ]
  },
  {
   "cell_type": "code",
   "execution_count": 4,
   "metadata": {},
   "outputs": [],
   "source": [
    "contents = myfile.read()"
   ]
  },
  {
   "cell_type": "code",
   "execution_count": 5,
   "metadata": {},
   "outputs": [
    {
     "data": {
      "text/plain": [
       "'Hi my name is Jimmy\\n'"
      ]
     },
     "execution_count": 5,
     "metadata": {},
     "output_type": "execute_result"
    }
   ],
   "source": [
    "contents\n"
   ]
  },
  {
   "cell_type": "code",
   "execution_count": 51,
   "metadata": {},
   "outputs": [
    {
     "name": "stdout",
     "output_type": "stream",
     "text": [
      "locate the file and store into \"myFile\"------------------------\n"
     ]
    }
   ],
   "source": [
    "print('locate the file and store into \"myFile\"------------------------')\n",
    "myfile =open('C:\\\\Users\\\\Jimmy Tran\\\\Desktop\\\\ADVJAVA\\\\books.txt')"
   ]
  },
  {
   "cell_type": "code",
   "execution_count": 50,
   "metadata": {},
   "outputs": [
    {
     "name": "stdout",
     "output_type": "stream",
     "text": [
      "reads everyting and puts in the \"contents\" variable------------------------\n"
     ]
    },
    {
     "ename": "ValueError",
     "evalue": "I/O operation on closed file.",
     "output_type": "error",
     "traceback": [
      "\u001b[1;31m---------------------------------------------------------------------------\u001b[0m",
      "\u001b[1;31mValueError\u001b[0m                                Traceback (most recent call last)",
      "\u001b[1;32m<ipython-input-50-dc19710a58a3>\u001b[0m in \u001b[0;36m<module>\u001b[1;34m\u001b[0m\n\u001b[0;32m      1\u001b[0m \u001b[0mprint\u001b[0m\u001b[1;33m(\u001b[0m\u001b[1;34m'reads everyting and puts in the \"contents\" variable------------------------'\u001b[0m\u001b[1;33m)\u001b[0m\u001b[1;33m\u001b[0m\u001b[1;33m\u001b[0m\u001b[0m\n\u001b[1;32m----> 2\u001b[1;33m \u001b[0mcontents\u001b[0m \u001b[1;33m=\u001b[0m \u001b[0mmyfile\u001b[0m\u001b[1;33m.\u001b[0m\u001b[0mread\u001b[0m\u001b[1;33m(\u001b[0m\u001b[1;33m)\u001b[0m\u001b[1;33m\u001b[0m\u001b[1;33m\u001b[0m\u001b[0m\n\u001b[0m",
      "\u001b[1;31mValueError\u001b[0m: I/O operation on closed file."
     ]
    }
   ],
   "source": [
    "print('reads everyting and puts in the \"contents\" variable------------------------')\n",
    "contents = myfile.read()\n"
   ]
  },
  {
   "cell_type": "code",
   "execution_count": 9,
   "metadata": {},
   "outputs": [
    {
     "data": {
      "text/plain": [
       "\"ALICE'S ADVENTURES IN WONDERLAND,Lewis Carroll,Adventure,etext/Alice-in-Wonderland.txt\\nGettysburg Address,Abraham Lincoln,Nonfiction,etext/Gettysburg-Address.txt\\nLeaves of Grass,Walt Whitman,Poetry,etext/Leaves-of-Grass.txt\\nA Tale of Two Cities,Charles Dickens,Historical,etext/A-Tale-of-Two-Cities.txt\\nAdventures of Huckleberry Finn,Mark Twain,Adventure,etext/Adventures-of-Huckleberry-Finn.txt\\nAdventures of Sherlock Holmes,Sir Arthur Conan Doyle,Mystery,etext/Adventures-of-Sherlock-Holmes.txt\\nAdventures of Tom Sawyer,Mark Twain,Adventure,etext/Adventures-of-Tom-Sawyer.txt\\nDracula,Bram Stoker,Horror,etext/Dracula.txt\\nFrakenstein,Mary Shelley,Horror,etext/Frankenstein.txt\\nGrimm's Fairy Tales,The Brothers Grimm,Fiction,etext/Grimms-Fairy-Tales.txt\\nHeart of Darkness,Joseph Conrad,Historical,etext/Heart-of-Darkness.txt\\nMoby Dick,Herman Melville,Fiction,etext/Moby-Dick.txt\\nPride and Prejudice,Jane Austen,Historical,etext/Pride-and-Prejudice.txt\\nThe Iliad of Homer,Homer,Fiction,etext/The-Iliad-of-Homer.txt\\nThe Importance of Being Earnest,Sir Oscar Wilde,Historical,etext/The-Importance-of-Being-Earnest.txt\\nUlysses,James Joyce,Fiction,etext/Ulysses.txt\\nEmma,Jane Austen,Nonfiction,etext/Emma.txt\\nWar and Peace,Leo Tolstoy,Adventure,etext/War-and-Peace.txt\\nGreat Expectations,Charles Dickens,Historical,etext/Great-Expectations.txt\""
      ]
     },
     "execution_count": 9,
     "metadata": {},
     "output_type": "execute_result"
    }
   ],
   "source": [
    "contents\n"
   ]
  },
  {
   "cell_type": "code",
   "execution_count": 14,
   "metadata": {},
   "outputs": [],
   "source": [
    "contents = myfile.readline()"
   ]
  },
  {
   "cell_type": "code",
   "execution_count": 49,
   "metadata": {},
   "outputs": [
    {
     "name": "stdout",
     "output_type": "stream",
     "text": [
      "need to use seek(0) to cursor back to beg to reread the document------------------------\n"
     ]
    },
    {
     "data": {
      "text/plain": [
       "'Hi my name is Jimmy\\n'"
      ]
     },
     "execution_count": 49,
     "metadata": {},
     "output_type": "execute_result"
    }
   ],
   "source": [
    "print('need to use seek(0) to cursor back to beg to reread the document------------------------')\n",
    "contents\n"
   ]
  },
  {
   "cell_type": "code",
   "execution_count": 48,
   "metadata": {},
   "outputs": [
    {
     "name": "stdout",
     "output_type": "stream",
     "text": [
      "resets the cursor back to beginning!------------------------\n"
     ]
    },
    {
     "ename": "ValueError",
     "evalue": "I/O operation on closed file.",
     "output_type": "error",
     "traceback": [
      "\u001b[1;31m---------------------------------------------------------------------------\u001b[0m",
      "\u001b[1;31mValueError\u001b[0m                                Traceback (most recent call last)",
      "\u001b[1;32m<ipython-input-48-cd69c98adb78>\u001b[0m in \u001b[0;36m<module>\u001b[1;34m\u001b[0m\n\u001b[0;32m      1\u001b[0m \u001b[0mprint\u001b[0m\u001b[1;33m(\u001b[0m\u001b[1;34m'resets the cursor back to beginning!------------------------'\u001b[0m\u001b[1;33m)\u001b[0m\u001b[1;33m\u001b[0m\u001b[1;33m\u001b[0m\u001b[0m\n\u001b[1;32m----> 2\u001b[1;33m \u001b[0mmyfile\u001b[0m\u001b[1;33m.\u001b[0m\u001b[0mseek\u001b[0m\u001b[1;33m(\u001b[0m\u001b[1;36m0\u001b[0m\u001b[1;33m)\u001b[0m\u001b[1;33m\u001b[0m\u001b[1;33m\u001b[0m\u001b[0m\n\u001b[0m",
      "\u001b[1;31mValueError\u001b[0m: I/O operation on closed file."
     ]
    }
   ],
   "source": [
    "print('resets the cursor back to beginning!------------------------')\n",
    "myfile.seek(0)"
   ]
  },
  {
   "cell_type": "code",
   "execution_count": 34,
   "metadata": {},
   "outputs": [],
   "source": [
    "contents = myfile.readlines()\n",
    "myfile.close()"
   ]
  },
  {
   "cell_type": "code",
   "execution_count": 47,
   "metadata": {},
   "outputs": [
    {
     "name": "stdout",
     "output_type": "stream",
     "text": [
      "reads the doc contents into var as a list------------------------\n"
     ]
    },
    {
     "data": {
      "text/plain": [
       "'Hi my name is Jimmy\\n'"
      ]
     },
     "execution_count": 47,
     "metadata": {},
     "output_type": "execute_result"
    }
   ],
   "source": [
    "print('reads the doc contents into var as a list------------------------')\n",
    "contents\n"
   ]
  },
  {
   "cell_type": "code",
   "execution_count": 46,
   "metadata": {},
   "outputs": [
    {
     "name": "stdout",
     "output_type": "stream",
     "text": [
      "WRITE INTO FILE------------------------\n"
     ]
    }
   ],
   "source": [
    "print('WRITE INTO FILE------------------------')"
   ]
  },
  {
   "cell_type": "code",
   "execution_count": 25,
   "metadata": {},
   "outputs": [
    {
     "name": "stdout",
     "output_type": "stream",
     "text": [
      "Writing writeText.txt\n"
     ]
    }
   ],
   "source": [
    "%%writefile writeText.txt\n",
    "This is Jimmy\n",
    "Writing into a text file"
   ]
  },
  {
   "cell_type": "code",
   "execution_count": 33,
   "metadata": {},
   "outputs": [
    {
     "data": {
      "text/plain": [
       "'C:\\\\Users\\\\Jimmy Tran\\\\python-notebook'"
      ]
     },
     "execution_count": 33,
     "metadata": {},
     "output_type": "execute_result"
    }
   ],
   "source": [
    "pwd"
   ]
  },
  {
   "cell_type": "code",
   "execution_count": 45,
   "metadata": {},
   "outputs": [
    {
     "name": "stdout",
     "output_type": "stream",
     "text": [
      "dont have to close() the file!------------------------\n",
      "\n",
      "Hi my name is Jimmy\n",
      "\n"
     ]
    }
   ],
   "source": [
    "print('dont have to close() the file!------------------------\\n')\n",
    "with open('myfile.txt') as my_new_file:\n",
    "    content = my_new_file.read()\n",
    "    print(content)"
   ]
  },
  {
   "cell_type": "code",
   "execution_count": 44,
   "metadata": {},
   "outputs": [
    {
     "name": "stdout",
     "output_type": "stream",
     "text": [
      "mode is permission to write or read to file------------------------\n",
      "Hi my name is Jimmy\n",
      "\n"
     ]
    }
   ],
   "source": [
    "print('mode is permission to write or read to file------------------------')\n",
    "with open('myfile.txt',mode='r') as myfile:\n",
    "    contents = myfile.read()\n",
    "    print(contents)"
   ]
  },
  {
   "cell_type": "code",
   "execution_count": 52,
   "metadata": {},
   "outputs": [
    {
     "name": "stdout",
     "output_type": "stream",
     "text": [
      "Overwriting myfile.txt\n"
     ]
    }
   ],
   "source": [
    "%%writefile myfile.txt \n",
    "Hi my name is Johnny"
   ]
  },
  {
   "cell_type": "code",
   "execution_count": 55,
   "metadata": {},
   "outputs": [
    {
     "name": "stdout",
     "output_type": "stream",
     "text": [
      "appending to file-------------------\n"
     ]
    }
   ],
   "source": [
    "print('appending to file-------------------')\n",
    "with open('myfile.txt' , mode='a') as f:\n",
    "    f.write('Hi my name is Jimmy')"
   ]
  },
  {
   "cell_type": "code",
   "execution_count": 56,
   "metadata": {},
   "outputs": [
    {
     "name": "stdout",
     "output_type": "stream",
     "text": [
      "Hi my name is Johnny\n",
      "\n",
      " Hi my name is JimmyHi my name is Jimmy\n"
     ]
    }
   ],
   "source": [
    "with open('myfile.txt', mode='r') as f:\n",
    "    print(f.read())"
   ]
  },
  {
   "cell_type": "code",
   "execution_count": 57,
   "metadata": {},
   "outputs": [],
   "source": [
    "file = open('myfile.txt', mode='w')"
   ]
  },
  {
   "cell_type": "code",
   "execution_count": 58,
   "metadata": {},
   "outputs": [],
   "source": [
    "file.write(\"yo what's up!\")\n",
    "file.close()"
   ]
  },
  {
   "cell_type": "code",
   "execution_count": 59,
   "metadata": {},
   "outputs": [
    {
     "name": "stdout",
     "output_type": "stream",
     "text": [
      "yo what's up!\n"
     ]
    }
   ],
   "source": [
    "with open('myfile.txt', mode='r') as f:\n",
    "    content = f.read()\n",
    "    print(content)"
   ]
  },
  {
   "cell_type": "code",
   "execution_count": null,
   "metadata": {},
   "outputs": [],
   "source": []
  }
 ],
 "metadata": {
  "kernelspec": {
   "display_name": "Python 3",
   "language": "python",
   "name": "python3"
  },
  "language_info": {
   "codemirror_mode": {
    "name": "ipython",
    "version": 3
   },
   "file_extension": ".py",
   "mimetype": "text/x-python",
   "name": "python",
   "nbconvert_exporter": "python",
   "pygments_lexer": "ipython3",
   "version": "3.7.4"
  }
 },
 "nbformat": 4,
 "nbformat_minor": 2
}
