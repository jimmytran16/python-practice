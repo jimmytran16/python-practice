{
 "cells": [
  {
   "cell_type": "code",
   "execution_count": 3,
   "metadata": {},
   "outputs": [],
   "source": [
    "#method to add\n",
    "def addFunc(args1,args2):\n",
    "    total = args1+args2\n",
    "    return total"
   ]
  },
  {
   "cell_type": "code",
   "execution_count": 7,
   "metadata": {},
   "outputs": [
    {
     "name": "stdout",
     "output_type": "stream",
     "text": [
      "this is 5\n"
     ]
    }
   ],
   "source": [
    "#call addFunc method and print it out\n",
    "print(f\"this is {addFunc(2,3)}\")"
   ]
  },
  {
   "cell_type": "code",
   "execution_count": 13,
   "metadata": {},
   "outputs": [],
   "source": [
    "#method to print somthing\n",
    "def sayHi():\n",
    "    print(\"hello\")"
   ]
  },
  {
   "cell_type": "code",
   "execution_count": 18,
   "metadata": {},
   "outputs": [
    {
     "name": "stdout",
     "output_type": "stream",
     "text": [
      "hello\n"
     ]
    }
   ],
   "source": [
    "sayHi()"
   ]
  },
  {
   "cell_type": "code",
   "execution_count": 15,
   "metadata": {},
   "outputs": [],
   "source": [
    "#mthod to print hello to 'someone'\n",
    "def sayGreetings(name):\n",
    "    print(f\"Hello {name}\")"
   ]
  },
  {
   "cell_type": "code",
   "execution_count": 16,
   "metadata": {},
   "outputs": [
    {
     "name": "stdout",
     "output_type": "stream",
     "text": [
      "Hello Jimmy\n"
     ]
    }
   ],
   "source": [
    "sayGreetings(\"Jimmy\")"
   ]
  },
  {
   "cell_type": "code",
   "execution_count": 5,
   "metadata": {},
   "outputs": [
    {
     "data": {
      "text/plain": [
       "True"
      ]
     },
     "execution_count": 5,
     "metadata": {},
     "output_type": "execute_result"
    }
   ],
   "source": [
    "#method to check for substring that contains inside a string\n",
    "def check_dog(myString):\n",
    "    if 'thisword' in myString:\n",
    "        return True\n",
    "    else:\n",
    "        return False\n",
    "check_dog('sdjflslfjsthiswordfsdfsd')"
   ]
  },
  {
   "cell_type": "code",
   "execution_count": 8,
   "metadata": {},
   "outputs": [
    {
     "data": {
      "text/plain": [
       "True"
      ]
     },
     "execution_count": 8,
     "metadata": {},
     "output_type": "execute_result"
    }
   ],
   "source": [
    "#method to check for substring that contains inside a string, converting all\n",
    "# chars in string to become lower case\n",
    "def check_dog(myString):\n",
    "    if 'thisword' in myString.lower():\n",
    "        return True\n",
    "    else:\n",
    "        return False\n",
    "check_dog('sdjflslfjsThiswordfsdfsd')"
   ]
  },
  {
   "cell_type": "code",
   "execution_count": 10,
   "metadata": {},
   "outputs": [
    {
     "data": {
      "text/plain": [
       "True"
      ]
     },
     "execution_count": 10,
     "metadata": {},
     "output_type": "execute_result"
    }
   ],
   "source": [
    "#check for vowels, iterate through a string and check one by one if \n",
    "# it is a vowel or not\n",
    "myString = 'kkkkakkkksssss'\n",
    "def check_for_v(str):\n",
    "    for i in myString:\n",
    "        if i in 'aeiou':\n",
    "            return True\n",
    "    return False\n",
    "check_for_v(myString)"
   ]
  },
  {
   "cell_type": "code",
   "execution_count": 2,
   "metadata": {},
   "outputs": [
    {
     "name": "stdout",
     "output_type": "stream",
     "text": [
      "33.49333333333333\n"
     ]
    }
   ],
   "source": [
    "# function to get volume given the radius\n",
    "def volum(rad):\n",
    "    return (4/3)*(3.14)*(pow(rad,3))\n",
    "print(volum(2))"
   ]
  },
  {
   "cell_type": "code",
   "execution_count": null,
   "metadata": {},
   "outputs": [],
   "source": []
  }
 ],
 "metadata": {
  "kernelspec": {
   "display_name": "Python 3",
   "language": "python",
   "name": "python3"
  },
  "language_info": {
   "codemirror_mode": {
    "name": "ipython",
    "version": 3
   },
   "file_extension": ".py",
   "mimetype": "text/x-python",
   "name": "python",
   "nbconvert_exporter": "python",
   "pygments_lexer": "ipython3",
   "version": "3.7.4"
  }
 },
 "nbformat": 4,
 "nbformat_minor": 2
}
