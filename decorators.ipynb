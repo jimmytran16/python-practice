{
 "cells": [
  {
   "cell_type": "code",
   "execution_count": 15,
   "metadata": {},
   "outputs": [],
   "source": [
    "#Decorators allow you to add functionality to a prexisting function\n",
    "#Allows you to modify the behavior of a function or CLASS\n",
    "#Let's you extend a function without actually permanantly changing it\n",
    "def thisfunction(anotherfunction):\n",
    "    def insidethisfunction():\n",
    "        print(\"Before added function\")\n",
    "        anotherfunction()\n",
    "        print(\"After added function\")\n",
    "    insidethisfunction()\n",
    "        "
   ]
  },
  {
   "cell_type": "code",
   "execution_count": 16,
   "metadata": {},
   "outputs": [],
   "source": [
    "def another():\n",
    "    print(\"This is another function\")"
   ]
  },
  {
   "cell_type": "code",
   "execution_count": 18,
   "metadata": {},
   "outputs": [
    {
     "name": "stdout",
     "output_type": "stream",
     "text": [
      "Before added function\n",
      "This is another function\n",
      "After added function\n"
     ]
    }
   ],
   "source": [
    "thisfunction(another) #calling the thisfunction() and passing in the another() function as an argument\n"
   ]
  },
  {
   "cell_type": "code",
   "execution_count": 20,
   "metadata": {},
   "outputs": [
    {
     "name": "stdout",
     "output_type": "stream",
     "text": [
      "Before added function\n",
      "This is another function\n",
      "After added function\n"
     ]
    }
   ],
   "source": [
    "#this is a way to call the thisfunction() as a decorator\n",
    "#passing the another() as an argument into the thisfunction()\n",
    "@thisfunction\n",
    "def another():\n",
    "    print(\"This is another function\")"
   ]
  },
  {
   "cell_type": "code",
   "execution_count": 21,
   "metadata": {},
   "outputs": [
    {
     "name": "stdout",
     "output_type": "stream",
     "text": [
      "Operations to do before routing to another page..\n",
      "Operations before going to new page\n",
      "Operation finished!\n"
     ]
    }
   ],
   "source": [
    "#This route() function will be in charge of routing to a page\n",
    "\n",
    "#This function will take a function as an arguement to proccess it and do\n",
    "#operationg before it can map to another page\n",
    "def route(functionToOperate): \n",
    "    def operations():\n",
    "        print(\"Operations to do before routing to another page..\")\n",
    "        functionToOperate()\n",
    "        print(\"Operation finished!\")\n",
    "    operations()\n",
    "\n",
    "@route\n",
    "def operateBeforeGoingToNewPage():\n",
    "    print(\"Operations before going to new page\")"
   ]
  },
  {
   "cell_type": "code",
   "execution_count": null,
   "metadata": {},
   "outputs": [],
   "source": []
  }
 ],
 "metadata": {
  "kernelspec": {
   "display_name": "Python 3",
   "language": "python",
   "name": "python3"
  },
  "language_info": {
   "codemirror_mode": {
    "name": "ipython",
    "version": 3
   },
   "file_extension": ".py",
   "mimetype": "text/x-python",
   "name": "python",
   "nbconvert_exporter": "python",
   "pygments_lexer": "ipython3",
   "version": "3.7.4"
  }
 },
 "nbformat": 4,
 "nbformat_minor": 2
}
