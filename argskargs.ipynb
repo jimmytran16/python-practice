{
 "cells": [
  {
   "cell_type": "code",
   "execution_count": 2,
   "metadata": {},
   "outputs": [],
   "source": [
    "# *args **kargs\n",
    "def myfunc(a,b):\n",
    "    #returns 5% of the sum of a and b\n",
    "    return sum((a,b))*0.05"
   ]
  },
  {
   "cell_type": "code",
   "execution_count": 4,
   "metadata": {},
   "outputs": [
    {
     "data": {
      "text/plain": [
       "0.45"
      ]
     },
     "execution_count": 4,
     "metadata": {},
     "output_type": "execute_result"
    }
   ],
   "source": [
    "myfunc(4,5)"
   ]
  },
  {
   "cell_type": "code",
   "execution_count": 8,
   "metadata": {},
   "outputs": [
    {
     "data": {
      "text/plain": [
       "0.45"
      ]
     },
     "execution_count": 8,
     "metadata": {},
     "output_type": "execute_result"
    }
   ],
   "source": [
    "#this function can take up to 2-5 positional arguments\n",
    "# c,d,e args will be set to default of 0 value if there is no args passed into the parameters\n",
    "def myfunc(a,b,c=0,d=0,e=0):\n",
    "    return sum((a,b,c,d,e))*0.05\n",
    "myfunc(4,5)"
   ]
  },
  {
   "cell_type": "code",
   "execution_count": 12,
   "metadata": {},
   "outputs": [
    {
     "data": {
      "text/plain": [
       "0.75"
      ]
     },
     "execution_count": 12,
     "metadata": {},
     "output_type": "execute_result"
    }
   ],
   "source": [
    "# function with *args as argument (doesn't have to be args--> can be any other *<anyarguemnts>)\n",
    "# this function allows you to pass in as many arguemnts as you want\n",
    "# will default convert the args into a tuple \n",
    "# example : if 4,5,6 is passed in ----> converts into (4,5,6)\n",
    "def myfunc(*args):\n",
    "    return sum(args) * 0.05\n",
    "myfunc(4,5,6)"
   ]
  },
  {
   "cell_type": "code",
   "execution_count": 18,
   "metadata": {},
   "outputs": [
    {
     "name": "stdout",
     "output_type": "stream",
     "text": [
      "no fruit exist!\n"
     ]
    }
   ],
   "source": [
    "# fuction with **kwargs as argument\n",
    "# this arg takes in Key/Word arguments (dictionaries)\n",
    "def myfunc(**kwargs):\n",
    "    if 'fruit' in kwargs:\n",
    "        the_fruit = kwargs['fruit']\n",
    "        print(f'My fruit is {the_fruit}')\n",
    "    else:\n",
    "        print('no fruit exist!')\n",
    "myfunc(fru='apple')"
   ]
  },
  {
   "cell_type": "code",
   "execution_count": 25,
   "metadata": {},
   "outputs": [
    {
     "name": "stdout",
     "output_type": "stream",
     "text": [
      "{'Jimmy': 21, 'Johnny': 22, 'Jenny': 12}\n",
      "Jimmys age is 21\n"
     ]
    }
   ],
   "source": [
    "#keyword for args cannot be an expression(string) EX.... myfunc('Jimmy'=21)\n",
    "def myfunc(**kwargs):\n",
    "    #kwards will be converted into a dictionary\n",
    "    print(kwargs)\n",
    "    if 'Jimmy' in kwargs:\n",
    "        age = kwargs['Jimmy']\n",
    "        print(f'Jimmys age is {age}')\n",
    "    else:\n",
    "        print('no fruit exist!')\n",
    "myfunc(Jimmy=21,Johnny=22,Jenny=12)"
   ]
  },
  {
   "cell_type": "code",
   "execution_count": 28,
   "metadata": {},
   "outputs": [
    {
     "name": "stdout",
     "output_type": "stream",
     "text": [
      "My name is Jimmy and print(1, 2, 3, 4, 5)\n"
     ]
    }
   ],
   "source": [
    "# both *args and **kwargs in one function\n",
    "# can pass any manys args and kwargs\n",
    "# args is passed first and then kwargs\n",
    "# func has to take at least one of each arguments\n",
    "def myfunc(*args,**kwargs):\n",
    "    name = kwargs['name']\n",
    "    print(f'My name is {name} and print{args}')\n",
    "myfunc(1,2,3,4,5,name='Jimmy')"
   ]
  },
  {
   "cell_type": "code",
   "execution_count": null,
   "metadata": {},
   "outputs": [],
   "source": []
  }
 ],
 "metadata": {
  "kernelspec": {
   "display_name": "Python 3",
   "language": "python",
   "name": "python3"
  },
  "language_info": {
   "codemirror_mode": {
    "name": "ipython",
    "version": 3
   },
   "file_extension": ".py",
   "mimetype": "text/x-python",
   "name": "python",
   "nbconvert_exporter": "python",
   "pygments_lexer": "ipython3",
   "version": "3.7.4"
  }
 },
 "nbformat": 4,
 "nbformat_minor": 2
}
