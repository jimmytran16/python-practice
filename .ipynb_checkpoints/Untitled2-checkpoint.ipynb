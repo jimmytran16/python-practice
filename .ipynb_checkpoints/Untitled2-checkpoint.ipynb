{
 "cells": [
  {
   "cell_type": "code",
   "execution_count": 5,
   "metadata": {},
   "outputs": [
    {
     "name": "stdout",
     "output_type": "stream",
     "text": [
      "Wrong file!-[Errno 2] No such file or directory: 'test.txt'\n",
      "Finally print\n"
     ]
    }
   ],
   "source": [
    "#this script will try to open up a file name test.txt and handle the exception if there is no such file!\n",
    "try:\n",
    "    file = open(\"test.txt\",\"r\") \n",
    "except Exception as error:\n",
    "    print(f\"Wrong file!-{error}\")\n",
    "finally:\n",
    "    print(\"Finally print\") # prints after try and except"
   ]
  },
  {
   "cell_type": "code",
   "execution_count": 7,
   "metadata": {},
   "outputs": [],
   "source": [
    "def tryFunction():\n",
    "    try:\n",
    "        file = open(\"test.txt\",\"r\") \n",
    "    except Exception as error:\n",
    "        print(f\"Wrong file!-{error}\")\n",
    "    finally:\n",
    "        print(\"Finally print\") # prints after try and except"
   ]
  },
  {
   "cell_type": "code",
   "execution_count": 8,
   "metadata": {},
   "outputs": [
    {
     "name": "stdout",
     "output_type": "stream",
     "text": [
      "Wrong file!-[Errno 2] No such file or directory: 'test.txt'\n",
      "Finally print\n"
     ]
    }
   ],
   "source": [
    "tryFunction()"
   ]
  },
  {
   "cell_type": "code",
   "execution_count": null,
   "metadata": {},
   "outputs": [],
   "source": []
  }
 ],
 "metadata": {
  "kernelspec": {
   "display_name": "Python 3",
   "language": "python",
   "name": "python3"
  },
  "language_info": {
   "codemirror_mode": {
    "name": "ipython",
    "version": 3
   },
   "file_extension": ".py",
   "mimetype": "text/x-python",
   "name": "python",
   "nbconvert_exporter": "python",
   "pygments_lexer": "ipython3",
   "version": "3.7.4"
  }
 },
 "nbformat": 4,
 "nbformat_minor": 2
}
