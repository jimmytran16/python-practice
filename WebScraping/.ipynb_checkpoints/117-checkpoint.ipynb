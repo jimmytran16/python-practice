{
 "cells": [
  {
   "cell_type": "code",
   "execution_count": 17,
   "metadata": {},
   "outputs": [],
   "source": [
    "import bs4 #import beautiful soup 4 module\n",
    "import requests #request module to send out requests to URLS\n",
    "import lxml"
   ]
  },
  {
   "cell_type": "code",
   "execution_count": 5,
   "metadata": {},
   "outputs": [],
   "source": [
    "url = 'https://en.wikipedia.org/wiki/Udemy' #set a URL that we are going to scrape from"
   ]
  },
  {
   "cell_type": "code",
   "execution_count": 6,
   "metadata": {},
   "outputs": [],
   "source": [
    "webpage = requests.get(url) #call a request on the url, will pass back a response object"
   ]
  },
  {
   "cell_type": "code",
   "execution_count": 19,
   "metadata": {},
   "outputs": [],
   "source": [
    "soup = bs4.BeautifulSoup(webpage.content,\"lxml\") #pass in the webcontent to the BeautifulSoup class to parse the content of the webpage"
   ]
  },
  {
   "cell_type": "code",
   "execution_count": 32,
   "metadata": {},
   "outputs": [
    {
     "data": {
      "text/plain": [
       "<!DOCTYPE html>\n",
       "<html class=\"client-nojs\" dir=\"ltr\" lang=\"en\">\n",
       "<head>\n",
       "<meta charset=\"utf-8\"/>\n",
       "<title>Udemy - Wikipedia</title>\n",
       "<script>document.documentElement.className=\"client-js\";RLCONF={\"wgBreakFrames\":!1,\"wgSeparatorTransformTable\":[\"\",\"\"],\"wgDigitTransformTable\":[\"\",\"\"],\"wgDefaultDateFormat\":\"dmy\",\"wgMonthNames\":[\"\",\"January\",\"February\",\"March\",\"April\",\"May\",\"June\",\"July\",\"August\",\"September\",\"October\",\"November\",\"December\"],\"wgRequestId\":\"d93a236f-d5bd-4404-952b-df44bed793d0\",\"wgCSPNonce\":!1,\"wgCanonicalNamespace\":\"\",\"wgCanonicalSpecialPageName\":!1,\"wgNamespaceNumber\":0,\"wgPageName\":\"Udemy\",\"wgTitle\":\"Udemy\",\"wgCurRevisionId\":964750775,\"wgRevisionId\":964750775,\"wgArticleId\":32843712,\"wgIsArticle\":!0,\"wgIsRedirect\":!1,\"wgAction\":\"view\",\"wgUserName\":null,\"wgUserGroups\":[\"*\"],\"wgCategories\":[\"Articles with short description\",\"Wikipedia articles with possible conflicts of interest from December 2016\",\"Articles containing potentially dated statements from September 2019\",\"All articles containing potentially dated statements\",\"All articles with unsourced statements\",\n",
       "\"Articles with unsourced statements from March 2019\",\"Wikipedia articles needing clarification from March 2020\",\"2010 establishments in California\",\"500 Startups companies\",\"American educational websites\",\"Companies based in San Francisco\",\"Education companies established in 2010\",\"Educational technology companies of the United States\",\"Internet properties established in 2010\",\"Learning management systems\",\"Virtual learning environments\"],\"wgPageContentLanguage\":\"en\",\"wgPageContentModel\":\"wikitext\",\"wgRelevantPageName\":\"Udemy\",\"wgRelevantArticleId\":32843712,\"wgIsProbablyEditable\":!0,\"wgRelevantPageIsProbablyEditable\":!0,\"wgRestrictionEdit\":[],\"wgRestrictionMove\":[],\"wgMediaViewerOnClick\":!0,\"wgMediaViewerEnabledByDefault\":!0,\"wgPopupsReferencePreviews\":!1,\"wgPopupsConflictsWithNavPopupGadget\":!1,\"wgVisualEditor\":{\"pageLanguageCode\":\"en\",\"pageLanguageDir\":\"ltr\",\"pageVariantFallbacks\":\"en\"},\"wgMFDisplayWikibaseDescriptions\":{\"search\":!0,\"nearby\":!0,\"watchlist\":!0,\n",
       "\"tagline\":!1},\"wgWMESchemaEditAttemptStepOversample\":!1,\"wgULSCurrentAutonym\":\"English\",\"wgNoticeProject\":\"wikipedia\",\"wgCentralAuthMobileDomain\":!1,\"wgEditSubmitButtonLabelPublish\":!0,\"wgULSPosition\":\"interlanguage\",\"wgWikibaseItemId\":\"Q7877165\"};RLSTATE={\"ext.globalCssJs.user.styles\":\"ready\",\"site.styles\":\"ready\",\"noscript\":\"ready\",\"user.styles\":\"ready\",\"ext.globalCssJs.user\":\"ready\",\"user\":\"ready\",\"user.options\":\"loading\",\"ext.cite.styles\":\"ready\",\"skins.vector.styles.legacy\":\"ready\",\"jquery.makeCollapsible.styles\":\"ready\",\"mediawiki.toc.styles\":\"ready\",\"ext.visualEditor.desktopArticleTarget.noscript\":\"ready\",\"ext.uls.interlanguage\":\"ready\",\"ext.wikimediaBadges\":\"ready\",\"wikibase.client.init\":\"ready\"};RLPAGEMODULES=[\"ext.cite.ux-enhancements\",\"site\",\"mediawiki.page.startup\",\"mediawiki.page.ready\",\"jquery.makeCollapsible\",\"mediawiki.toc\",\"skins.vector.legacy.js\",\"ext.gadget.ReferenceTooltips\",\"ext.gadget.charinsert\",\"ext.gadget.extra-toolbar-buttons\",\n",
       "\"ext.gadget.refToolbar\",\"ext.gadget.switcher\",\"ext.centralauth.centralautologin\",\"mmv.head\",\"mmv.bootstrap.autostart\",\"ext.popups\",\"ext.visualEditor.desktopArticleTarget.init\",\"ext.visualEditor.targetLoader\",\"ext.eventLogging\",\"ext.wikimediaEvents\",\"ext.navigationTiming\",\"ext.uls.compactlinks\",\"ext.uls.interface\",\"ext.cx.eventlogging.campaigns\",\"ext.quicksurveys.init\",\"ext.centralNotice.geoIP\",\"ext.centralNotice.startUp\"];</script>\n",
       "<script>(RLQ=window.RLQ||[]).push(function(){mw.loader.implement(\"user.options@1hzgi\",function($,jQuery,require,module){/*@nomin*/mw.user.tokens.set({\"patrolToken\":\"+\\\\\",\"watchToken\":\"+\\\\\",\"csrfToken\":\"+\\\\\"});\n",
       "});});</script>\n",
       "<link href=\"/w/load.php?lang=en&amp;modules=ext.cite.styles%7Cext.uls.interlanguage%7Cext.visualEditor.desktopArticleTarget.noscript%7Cext.wikimediaBadges%7Cjquery.makeCollapsible.styles%7Cmediawiki.toc.styles%7Cskins.vector.styles.legacy%7Cwikibase.client.init&amp;only=styles&amp;skin=vector\" rel=\"stylesheet\"/>\n",
       "<script async=\"\" src=\"/w/load.php?lang=en&amp;modules=startup&amp;only=scripts&amp;raw=1&amp;skin=vector\"></script>\n",
       "<meta content=\"\" name=\"ResourceLoaderDynamicStyles\"/>\n",
       "<link href=\"/w/load.php?lang=en&amp;modules=site.styles&amp;only=styles&amp;skin=vector\" rel=\"stylesheet\"/>\n",
       "<meta content=\"MediaWiki 1.35.0-wmf.40\" name=\"generator\"/>\n",
       "<meta content=\"origin\" name=\"referrer\"/>\n",
       "<meta content=\"origin-when-crossorigin\" name=\"referrer\"/>\n",
       "<meta content=\"origin-when-cross-origin\" name=\"referrer\"/>\n",
       "<meta content=\"https://upload.wikimedia.org/wikipedia/en/b/b9/Udemy_screenshot.jpg\" property=\"og:image\"/>\n",
       "<link href=\"/w/index.php?title=Udemy&amp;action=edit\" rel=\"alternate\" title=\"Edit this page\" type=\"application/x-wiki\"/>\n",
       "<link href=\"/w/index.php?title=Udemy&amp;action=edit\" rel=\"edit\" title=\"Edit this page\"/>\n",
       "<link href=\"/static/apple-touch/wikipedia.png\" rel=\"apple-touch-icon\"/>\n",
       "<link href=\"/static/favicon/wikipedia.ico\" rel=\"shortcut icon\"/>\n",
       "<link href=\"/w/opensearch_desc.php\" rel=\"search\" title=\"Wikipedia (en)\" type=\"application/opensearchdescription+xml\"/>\n",
       "<link href=\"//en.wikipedia.org/w/api.php?action=rsd\" rel=\"EditURI\" type=\"application/rsd+xml\"/>\n",
       "<link href=\"//creativecommons.org/licenses/by-sa/3.0/\" rel=\"license\"/>\n",
       "<link href=\"/w/index.php?title=Special:RecentChanges&amp;feed=atom\" rel=\"alternate\" title=\"Wikipedia Atom feed\" type=\"application/atom+xml\"/>\n",
       "<link href=\"https://en.wikipedia.org/wiki/Udemy\" rel=\"canonical\"/>\n",
       "<link href=\"//login.wikimedia.org\" rel=\"dns-prefetch\"/>\n",
       "<link href=\"//meta.wikimedia.org\" rel=\"dns-prefetch\"/>\n",
       "<!--[if lt IE 9]><script src=\"/w/resources/lib/html5shiv/html5shiv.js\"></script><![endif]-->\n",
       "</head>\n",
       "<body class=\"mediawiki ltr sitedir-ltr mw-hide-empty-elt ns-0 ns-subject mw-editable page-Udemy rootpage-Udemy skin-vector action-view skin-vector-legacy minerva--history-page-action-enabled\">\n",
       "<div class=\"noprint\" id=\"mw-page-base\"></div>\n",
       "<div class=\"noprint\" id=\"mw-head-base\"></div>\n",
       "<div class=\"mw-body\" id=\"content\" role=\"main\">\n",
       "<a id=\"top\"></a>\n",
       "<div class=\"mw-body-content\" id=\"siteNotice\"><!-- CentralNotice --></div>\n",
       "<div class=\"mw-indicators mw-body-content\">\n",
       "</div>\n",
       "<h1 class=\"firstHeading\" id=\"firstHeading\" lang=\"en\">Udemy</h1>\n",
       "<div class=\"mw-body-content\" id=\"bodyContent\">\n",
       "<div class=\"noprint\" id=\"siteSub\">From Wikipedia, the free encyclopedia</div>\n",
       "<div id=\"contentSub\"></div>\n",
       "<div id=\"jump-to-nav\"></div>\n",
       "<a class=\"mw-jump-link\" href=\"#mw-head\">Jump to navigation</a>\n",
       "<a class=\"mw-jump-link\" href=\"#searchInput\">Jump to search</a>\n",
       "<div class=\"mw-content-ltr\" dir=\"ltr\" id=\"mw-content-text\" lang=\"en\"><div class=\"mw-parser-output\"><div class=\"shortdescription nomobile noexcerpt noprint searchaux\" style=\"display:none\">American online learning platform</div>\n",
       "<table class=\"box-COI plainlinks metadata ambox ambox-content ambox-COI\" role=\"presentation\"><tbody><tr><td class=\"mbox-image\"><div style=\"width:52px\"><img alt=\"Unbalanced scales.svg\" data-file-height=\"354\" data-file-width=\"400\" decoding=\"async\" height=\"40\" src=\"//upload.wikimedia.org/wikipedia/commons/thumb/f/fe/Unbalanced_scales.svg/45px-Unbalanced_scales.svg.png\" srcset=\"//upload.wikimedia.org/wikipedia/commons/thumb/f/fe/Unbalanced_scales.svg/68px-Unbalanced_scales.svg.png 1.5x, //upload.wikimedia.org/wikipedia/commons/thumb/f/fe/Unbalanced_scales.svg/90px-Unbalanced_scales.svg.png 2x\" width=\"45\"/></div></td><td class=\"mbox-text\"><div class=\"mbox-text-span\"><b> A major contributor to this article appears to have a <a href=\"/wiki/Wikipedia:Conflict_of_interest\" title=\"Wikipedia:Conflict of interest\">close connection</a> with its subject.</b><span class=\"hide-when-compact\"> It may require cleanup to comply with Wikipedia's content policies, particularly <a href=\"/wiki/Wikipedia:Neutral_point_of_view\" title=\"Wikipedia:Neutral point of view\">neutral point of view</a>. Please discuss further on the <a href=\"/wiki/Talk:Udemy\" title=\"Talk:Udemy\">talk page</a>.</span> <small class=\"date-container\"><i>(<span class=\"date\">December 2016</span>)</i></small><small class=\"hide-when-compact\"><i> (<a href=\"/wiki/Help:Maintenance_template_removal\" title=\"Help:Maintenance template removal\">Learn how and when to remove this template message</a>)</i></small></div></td></tr></tbody></table>\n",
       "<table class=\"infobox vcard\" style=\"width:22em\"><caption class=\"fn org\">Udemy, Inc.</caption><tbody><tr><td colspan=\"2\" style=\"text-align:center\"><a class=\"image\" href=\"/wiki/File:UdemyLogo.svg\"><img alt=\"UdemyLogo.svg\" data-file-height=\"167\" data-file-width=\"576\" decoding=\"async\" height=\"72\" src=\"//upload.wikimedia.org/wikipedia/commons/thumb/9/93/UdemyLogo.svg/250px-UdemyLogo.svg.png\" srcset=\"//upload.wikimedia.org/wikipedia/commons/thumb/9/93/UdemyLogo.svg/375px-UdemyLogo.svg.png 1.5x, //upload.wikimedia.org/wikipedia/commons/thumb/9/93/UdemyLogo.svg/500px-UdemyLogo.svg.png 2x\" width=\"250\"/></a></td></tr><tr><td colspan=\"2\" style=\"text-align:center\"><div class=\"mw-collapsible mw-collapsed\" style=\"box-sizing:border-box;width:100%;font-size:95%;padding:4px;border:none;\"><div style=\"font-size:100%;line-height:1.6;font-weight:bold;background:transparent;text-align:left;;background:gainsboro;text-align:center\">Screenshot</div><div class=\"mw-collapsible-content\" style=\"background:transparent;text-align:left;;text-align:center\">\n",
       "<a class=\"image\" href=\"/wiki/File:Udemy_screenshot.jpg\"><img alt=\"Udemy screenshot.jpg\" data-file-height=\"377\" data-file-width=\"263\" decoding=\"async\" height=\"430\" src=\"//upload.wikimedia.org/wikipedia/en/b/b9/Udemy_screenshot.jpg\" width=\"300\"/></a><div></div></div></div></td></tr><tr><th scope=\"row\">Available in</th><td><div class=\"plainlist\"><ul><li><a href=\"/wiki/English_language\" title=\"English language\">English</a></li><li><a href=\"/wiki/French_language\" title=\"French language\">French</a></li><li><a href=\"/wiki/Spanish_language\" title=\"Spanish language\">Spanish</a></li><li><a href=\"/wiki/Turkish_language\" title=\"Turkish language\">Turkish</a></li><li><a href=\"/wiki/Portuguese_language\" title=\"Portuguese language\">Portuguese</a></li><li><a href=\"/wiki/German_language\" title=\"German language\">German</a></li></ul></div></td></tr><tr><th scope=\"row\">Founded</th><td>May 11, 2010<span class=\"noprint\">; 10 years ago</span><span style=\"display:none\"> (<span class=\"bday dtstart published updated\">2010-05-11</span>)</span></td></tr><tr><th scope=\"row\">Created by</th><td><div class=\"plainlist\"><ul><li>Eren Bali</li><li><a href=\"/wiki/Gagan_Biyani\" title=\"Gagan Biyani\">Gagan Biyani</a></li><li>Oktay Caglar<sup class=\"reference\" id=\"cite_ref-1\"><a href=\"#cite_note-1\">[1]</a></sup></li></ul></div></td></tr><tr><th scope=\"row\">Key people</th><td>Gregg Coccari (<a class=\"mw-redirect\" href=\"/wiki/CEO\" title=\"CEO\">CEO</a>)</td></tr><tr><th scope=\"row\">Industry</th><td class=\"category\"><a class=\"mw-redirect\" href=\"/wiki/E-learning\" title=\"E-learning\">E-learning</a></td></tr><tr><th scope=\"row\">URL</th><td class=\"url\"><span class=\"url\"><a class=\"external text\" href=\"http://www.udemy.com/\" rel=\"nofollow\">www<wbr/>.udemy<wbr/>.com</a></span></td></tr><tr><th scope=\"row\"><a href=\"/wiki/Alexa_Internet\" title=\"Alexa Internet\">Alexa</a> rank</th><td><img alt=\"Increase\" data-file-height=\"300\" data-file-width=\"300\" decoding=\"async\" height=\"11\" src=\"//upload.wikimedia.org/wikipedia/commons/thumb/b/b0/Increase2.svg/11px-Increase2.svg.png\" srcset=\"//upload.wikimedia.org/wikipedia/commons/thumb/b/b0/Increase2.svg/17px-Increase2.svg.png 1.5x, //upload.wikimedia.org/wikipedia/commons/thumb/b/b0/Increase2.svg/22px-Increase2.svg.png 2x\" title=\"Increase\" width=\"11\"/>166 (September 2019<sup class=\"plainlinks noexcerpt noprint asof-tag update\" style=\"display:none;\"><a class=\"external text\" href=\"https://en.wikipedia.org/w/index.php?title=Udemy&amp;action=edit\">[update]</a></sup>)</td></tr><tr><th scope=\"row\">Commercial</th><td>Yes</td></tr><tr><th scope=\"row\">Current status</th><td class=\"category\">Active</td></tr></tbody></table>\n",
       "<p><b>Udemy</b>, founded in May 2010, is an American <a href=\"/wiki/Educational_technology\" title=\"Educational technology\">online learning</a> platform aimed at professional adults and students. As of Jan 2020, the platform has more than 50 million students and 57,000 instructors teaching courses in over 65 languages. There have been over 295 million course enrollments. Students and instructors come from 190+ countries and 2/3 of the students are located outside of the U.S.\n",
       "</p><p>Students take courses largely as a means of improving job-related skills.<sup class=\"reference\" id=\"cite_ref-techcrunch5-8-14_2-0\"><a href=\"#cite_note-techcrunch5-8-14-2\">[2]</a></sup> Some courses generate credit toward technical <a href=\"/wiki/Certification\" title=\"Certification\">certification</a>. Udemy has made a special effort to attract corporate trainers seeking to create coursework for employees of their company.<sup class=\"reference\" id=\"cite_ref-InfoWeek4-16-13_3-0\"><a href=\"#cite_note-InfoWeek4-16-13-3\">[3]</a></sup> As of 2020, there are more than 150,000 courses on the website.<sup class=\"reference\" id=\"cite_ref-inverse_4-0\"><a href=\"#cite_note-inverse-4\">[4]</a></sup>\n",
       "</p><p>The headquarters of Udemy is located in San Francisco, CA with satellite offices in Denver, CO; Dublin, IE; Ankara, TR; Sao Paulo, BR; and Gurgaon, IN.<sup class=\"reference\" id=\"cite_ref-5\"><a href=\"#cite_note-5\">[5]</a></sup>\n",
       "</p>\n",
       "<div aria-labelledby=\"mw-toc-heading\" class=\"toc\" id=\"toc\" role=\"navigation\"><input class=\"toctogglecheckbox\" id=\"toctogglecheckbox\" role=\"button\" style=\"display:none\" type=\"checkbox\"/><div class=\"toctitle\" dir=\"ltr\" lang=\"en\"><h2 id=\"mw-toc-heading\">Contents</h2><span class=\"toctogglespan\"><label class=\"toctogglelabel\" for=\"toctogglecheckbox\"></label></span></div>\n",
       "<ul>\n",
       "<li class=\"toclevel-1 tocsection-1\"><a href=\"#History\"><span class=\"tocnumber\">1</span> <span class=\"toctext\">History</span></a></li>\n",
       "<li class=\"toclevel-1 tocsection-2\"><a href=\"#Overview\"><span class=\"tocnumber\">2</span> <span class=\"toctext\">Overview</span></a>\n",
       "<ul>\n",
       "<li class=\"toclevel-2 tocsection-3\"><a href=\"#Massive_open_online_course_(MOOC)\"><span class=\"tocnumber\">2.1</span> <span class=\"toctext\">Massive open online course (MOOC)</span></a></li>\n",
       "</ul>\n",
       "</li>\n",
       "<li class=\"toclevel-1 tocsection-4\"><a href=\"#Reception\"><span class=\"tocnumber\">3</span> <span class=\"toctext\">Reception</span></a></li>\n",
       "<li class=\"toclevel-1 tocsection-5\"><a href=\"#Piracy_concerns\"><span class=\"tocnumber\">4</span> <span class=\"toctext\">Piracy concerns</span></a></li>\n",
       "<li class=\"toclevel-1 tocsection-6\"><a href=\"#References\"><span class=\"tocnumber\">5</span> <span class=\"toctext\">References</span></a></li>\n",
       "<li class=\"toclevel-1 tocsection-7\"><a href=\"#External_links\"><span class=\"tocnumber\">6</span> <span class=\"toctext\">External links</span></a></li>\n",
       "</ul>\n",
       "</div>\n",
       "<h2><span class=\"mw-headline\" id=\"History\">History</span><span class=\"mw-editsection\"><span class=\"mw-editsection-bracket\">[</span><a href=\"/w/index.php?title=Udemy&amp;action=edit&amp;section=1\" title=\"Edit section: History\">edit</a><span class=\"mw-editsection-bracket\">]</span></span></h2>\n",
       "<p>In 2007, Udemy (you-de-mee, portmanteau of <i>you + academy</i>)<sup class=\"reference\" id=\"cite_ref-6\"><a href=\"#cite_note-6\">[6]</a></sup> founder <a class=\"new\" href=\"/w/index.php?title=Eren_Bali&amp;action=edit&amp;redlink=1\" title=\"Eren Bali (page does not exist)\">Eren Bali</a> built a software for a live virtual classroom while living in <a href=\"/wiki/Turkey\" title=\"Turkey\">Turkey</a>. He saw potential in making the product free for everyone, and moved to <a href=\"/wiki/Silicon_Valley\" title=\"Silicon Valley\">Silicon Valley</a> to found a company two years later. The site was launched by Bali, <a class=\"new\" href=\"/w/index.php?title=Oktay_Caglar&amp;action=edit&amp;redlink=1\" title=\"Oktay Caglar (page does not exist)\">Oktay Caglar</a> and <a href=\"/wiki/Gagan_Biyani\" title=\"Gagan Biyani\">Gagan Biyani</a> in early 2010.<sup class=\"reference\" id=\"cite_ref-7\"><a href=\"#cite_note-7\">[7]</a></sup>\n",
       "</p><p>In February 2010, the founders tried to raise venture capital funding, but the idea failed to impress investors and they were rejected 30 times, according to Gagan Biyani.<sup class=\"reference\" id=\"cite_ref-venturehacks_8-0\"><a href=\"#cite_note-venturehacks-8\">[8]</a></sup> In response to this, they <a href=\"/wiki/Bootstrapping\" title=\"Bootstrapping\">bootstrapped</a> the development of the product and launched Udemy—\"The Academy of You\"—in May 2010.<sup class=\"reference\" id=\"cite_ref-venturehacks_8-1\"><a href=\"#cite_note-venturehacks-8\">[8]</a></sup>\n",
       "</p><p>Within a few months, 1,000 instructors had created about 2,000 courses, and Udemy had nearly 10,000 registered users. Based on this favorable market reaction, they decided to attempt another round of financing, and raised $1 million in venture funding by August.<sup class=\"reference\" id=\"cite_ref-xconomy_9-0\"><a href=\"#cite_note-xconomy-9\">[9]</a></sup><sup class=\"reference\" id=\"cite_ref-techcrunch_10-0\"><a href=\"#cite_note-techcrunch-10\">[10]</a></sup>\n",
       "</p><p>In October 2011, the company raised an additional $3 million in <a class=\"mw-redirect\" href=\"/wiki/Series_A_funding\" title=\"Series A funding\">Series A funding</a> led by <a href=\"/wiki/Groupon\" title=\"Groupon\">Groupon</a> investors <a href=\"/wiki/Eric_Lefkofsky\" title=\"Eric Lefkofsky\">Eric Lefkofsky</a> and <a href=\"/wiki/Brad_Keywell\" title=\"Brad Keywell\">Brad Keywell</a>, as well as <a href=\"/wiki/500_Startups\" title=\"500 Startups\">500 Startups</a> and MHS Capital.<sup class=\"reference\" id=\"cite_ref-tc_11-0\"><a href=\"#cite_note-tc-11\">[11]</a></sup>\n",
       "</p><p>In December 2012, the company raised $12 million in <a href=\"/wiki/Venture_capital_financing#The_Second_Stage\" title=\"Venture capital financing\">Series B funding</a> led by <a class=\"mw-redirect\" href=\"/wiki/Insight_Venture_Partners\" title=\"Insight Venture Partners\">Insight Venture Partners</a>, as well as Lightbank Capital, MHS Capital and Learn Capital, bringing Udemy's total funding to $16 million.<sup class=\"reference\" id=\"cite_ref-twelve_12-0\"><a href=\"#cite_note-twelve-12\">[12]</a></sup>\n",
       "</p><p>On April 22, 2014, the Wall Street Journal's Digital edition reported that Dennis Yang, <a class=\"mw-redirect\" href=\"/wiki/Chief_Operating_Officer\" title=\"Chief Operating Officer\">Chief Operating Officer</a> of Udemy was named CEO, replacing Eren Bali.<sup class=\"reference\" id=\"cite_ref-WSHD4-22-14_13-0\"><a href=\"#cite_note-WSHD4-22-14-13\">[13]</a></sup>\n",
       "</p><p>In May 2014, Udemy raised another $32 million in a Series C funding, led by <a href=\"/wiki/Norwest_Venture_Partners\" title=\"Norwest Venture Partners\">Norwest Venture Partners</a>, as well as Insight Venture Partners and MHS Capital.<sup class=\"reference\" id=\"cite_ref-32million_14-0\"><a href=\"#cite_note-32million-14\">[14]</a></sup>\n",
       "</p><p>In June 2015, Udemy raised a $65 million Series D financing round, led by Stripes Group. Now Udemy joined another online learning house Skillsdox Inc of Canada to open up School of Skills in India.\n",
       "</p><p>In June 2016, Udemy raised $60 million from <a href=\"/wiki/Naspers\" title=\"Naspers\">Naspers Ventures</a> as a follow-up to the $65 million Series D round of financing from June 2015.<sup class=\"reference\" id=\"cite_ref-15\"><a href=\"#cite_note-15\">[15]</a></sup>\n",
       "</p><p>On February 5, 2019, Udemy announced that the board of the company appointed Gregg Coccari as its new chief executive officer.<sup class=\"reference\" id=\"cite_ref-16\"><a href=\"#cite_note-16\">[16]</a></sup>\n",
       "</p>\n",
       "<h2><span class=\"mw-headline\" id=\"Overview\">Overview</span><span class=\"mw-editsection\"><span class=\"mw-editsection-bracket\">[</span><a href=\"/w/index.php?title=Udemy&amp;action=edit&amp;section=2\" title=\"Edit section: Overview\">edit</a><span class=\"mw-editsection-bracket\">]</span></span></h2>\n",
       "<p>Udemy is a platform that allows instructors to build online courses on their preferred topics. Using Udemy's course development tools, they can upload videos, <a class=\"mw-redirect\" href=\"/wiki/PowerPoint\" title=\"PowerPoint\">PowerPoint</a> presentations, <a href=\"/wiki/PDF\" title=\"PDF\">PDFs</a>, audio, <a class=\"mw-redirect\" href=\"/wiki/ZIP_(file_format)\" title=\"ZIP (file format)\">ZIP files</a> and live classes to create courses.<sup class=\"noprint Inline-Template Template-Fact\" style=\"white-space:nowrap;\">[<i><a href=\"/wiki/Wikipedia:Citation_needed\" title=\"Wikipedia:Citation needed\"><span title=\"This claim needs references to reliable sources. (March 2019)\">citation needed</span></a></i>]</sup> Instructors can also engage and interact with users via online discussion boards.\n",
       "</p><p>Courses are offered across a breadth of categories, including business and <a href=\"/wiki/Entrepreneurship\" title=\"Entrepreneurship\">entrepreneurship</a>, academics, the arts, health and fitness, language, music, and technology.<sup class=\"noprint Inline-Template Template-Fact\" style=\"white-space:nowrap;\">[<i><a href=\"/wiki/Wikipedia:Citation_needed\" title=\"Wikipedia:Citation needed\"><span title=\"This claim needs references to reliable sources. (March 2019)\">citation needed</span></a></i>]</sup> Most classes are in practical subjects such as <a href=\"/wiki/Microsoft_Excel\" title=\"Microsoft Excel\">Excel</a> software or using an <a href=\"/wiki/IPhone\" title=\"IPhone\">iPhone</a> camera.<sup class=\"reference\" id=\"cite_ref-17\"><a href=\"#cite_note-17\">[17]</a></sup> Udemy also offers Udemy for Business, enabling businesses access to a targeted suite of over 4,000 training courses on topics from digital marketing tactics to office productivity, <a href=\"/wiki/Design\" title=\"Design\">design</a>, <a href=\"/wiki/Management\" title=\"Management\">management</a>, <a href=\"/wiki/Computer_programming\" title=\"Computer programming\">programming</a>, and more. With Udemy for Business, organizations can also create custom learning portals for corporate training.<sup class=\"reference\" id=\"cite_ref-ufo_18-0\"><a href=\"#cite_note-ufo-18\">[18]</a></sup>\n",
       "</p><p>Courses on Udemy can be paid or free, depending on the instructor.<sup class=\"reference\" id=\"cite_ref-19\"><a href=\"#cite_note-19\">[19]</a></sup> In 2015, the top 10 instructors made more than $17 million in total revenue.<sup class=\"reference\" id=\"cite_ref-inverse_4-1\"><a href=\"#cite_note-inverse-4\">[4]</a></sup>\n",
       "</p><p>In April 2013, Udemy offered an <a href=\"/wiki/Mobile_app\" title=\"Mobile app\">app</a> for <a href=\"/wiki/Apple_Inc.\" title=\"Apple Inc.\">Apple</a> <a href=\"/wiki/IOS\" title=\"IOS\">iOS</a>, allowing students to take classes directly from <a href=\"/wiki/IPhone\" title=\"IPhone\">iPhones</a>;<sup class=\"reference\" id=\"cite_ref-ios_20-0\"><a href=\"#cite_note-ios-20\">[20]</a></sup> The Android version was launched in January 2014.<sup class=\"reference\" id=\"cite_ref-vb_21-0\"><a href=\"#cite_note-vb-21\">[21]</a></sup> As of January 2014, the iOS app had been downloaded over 1 million times, and 20 percent of Udemy users access their courses via mobile.<sup class=\"reference\" id=\"cite_ref-g_22-0\"><a href=\"#cite_note-g-22\">[22]</a></sup> In July 2016, Udemy expanded their iOS platform to include <a href=\"/wiki/Apple_TV\" title=\"Apple TV\">Apple TV</a>.<sup class=\"reference\" id=\"cite_ref-appletv_23-0\"><a href=\"#cite_note-appletv-23\">[23]</a></sup>  On January 11, 2020, the Udemy mobile app became the #1 top grossing Android app in India.<sup class=\"reference\" id=\"cite_ref-24\"><a href=\"#cite_note-24\">[24]</a></sup>\n",
       "</p>\n",
       "<h3><span id=\"Massive_open_online_course_.28MOOC.29\"></span><span class=\"mw-headline\" id=\"Massive_open_online_course_(MOOC)\">Massive open online course (MOOC)</span><span class=\"mw-editsection\"><span class=\"mw-editsection-bracket\">[</span><a href=\"/w/index.php?title=Udemy&amp;action=edit&amp;section=3\" title=\"Edit section: Massive open online course (MOOC)\">edit</a><span class=\"mw-editsection-bracket\">]</span></span></h3>\n",
       "<p>Udemy is part of the growing MOOC movement available outside the traditional university system,<sup class=\"reference\" id=\"cite_ref-mooc_25-0\"><a href=\"#cite_note-mooc-25\">[25]</a></sup><sup class=\"reference\" id=\"cite_ref-mo_26-0\"><a href=\"#cite_note-mo-26\">[26]</a></sup> and has been noted for the variety of courses offered.<sup class=\"reference\" id=\"cite_ref-ab_27-0\"><a href=\"#cite_note-ab-27\">[27]</a></sup>\n",
       "</p>\n",
       "<h2><span class=\"mw-headline\" id=\"Reception\">Reception</span><span class=\"mw-editsection\"><span class=\"mw-editsection-bracket\">[</span><a href=\"/w/index.php?title=Udemy&amp;action=edit&amp;section=4\" title=\"Edit section: Reception\">edit</a><span class=\"mw-editsection-bracket\">]</span></span></h2>\n",
       "<p>Udemy has been mentioned in <i><a href=\"/wiki/The_New_York_Times\" title=\"The New York Times\">The New York Times</a></i>, <i><a href=\"/wiki/The_China_Post\" title=\"The China Post\">The China Post</a></i>, <i><a class=\"mw-redirect\" href=\"/wiki/Fast_Company_(magazine)\" title=\"Fast Company (magazine)\">Fast Company</a></i>, the <a href=\"/wiki/BBC\" title=\"BBC\">BBC</a>, YPN<sup class=\"noprint Inline-Template\" style=\"margin-left:0.1em; white-space:nowrap;\">[<i><a href=\"/wiki/Wikipedia:Please_clarify\" title=\"Wikipedia:Please clarify\"><span title=\"The text near this tag may need clarification or removal of jargon. (March 2020)\">clarification needed</span></a></i>]</sup> and <a href=\"/wiki/TechCrunch\" title=\"TechCrunch\">TechCrunch</a>, with <a href=\"/wiki/Mashable\" title=\"Mashable\">Mashable</a> noting \"Udemy offers an experience that rivals the real classroom, and should prove to be a useful utility for teachers and students of all subject matters.\"<sup class=\"reference\" id=\"cite_ref-techcrunch_10-1\"><a href=\"#cite_note-techcrunch-10\">[10]</a></sup><sup class=\"reference\" id=\"cite_ref-nytimes_28-0\"><a href=\"#cite_note-nytimes-28\">[28]</a></sup><sup class=\"reference\" id=\"cite_ref-chinapost_29-0\"><a href=\"#cite_note-chinapost-29\">[29]</a></sup><sup class=\"reference\" id=\"cite_ref-fastcompany_30-0\"><a href=\"#cite_note-fastcompany-30\">[30]</a></sup><sup class=\"reference\" id=\"cite_ref-mashable_31-0\"><a href=\"#cite_note-mashable-31\">[31]</a></sup><sup class=\"reference\" id=\"cite_ref-32\"><a href=\"#cite_note-32\">[32]</a></sup>\n",
       "</p><p>In 2014, <i><a href=\"/wiki/Forbes\" title=\"Forbes\">Forbes</a></i> named Udemy cofounder Eren Bali as part of their \"30 Under 30\" of \"the brightest stars in 15 different fields under the age of 30.\"<sup class=\"reference\" id=\"cite_ref-under_33-0\"><a href=\"#cite_note-under-33\">[33]</a></sup>\n",
       "</p><p>Noted businessman <a href=\"/wiki/Jack_Welch\" title=\"Jack Welch\">Jack Welch</a> developed an online MBA program, offered through the <a href=\"/wiki/Jack_Welch_Management_Institute\" title=\"Jack Welch Management Institute\">Jack Welch Management Institute</a> (JWMI) at <a href=\"/wiki/Strayer_University\" title=\"Strayer University\">Strayer University</a>, which acquired JWMI assets in November 2011.<sup class=\"reference\" id=\"cite_ref-34\"><a href=\"#cite_note-34\">[34]</a></sup> Udemy became the MOOC platform for the institute's Welch Way courseware in November 2012, and promoted this Jack Welch connection.<sup class=\"reference\" id=\"cite_ref-35\"><a href=\"#cite_note-35\">[35]</a></sup>\n",
       "</p>\n",
       "<h2><span class=\"mw-headline\" id=\"Piracy_concerns\">Piracy concerns</span><span class=\"mw-editsection\"><span class=\"mw-editsection-bracket\">[</span><a href=\"/w/index.php?title=Udemy&amp;action=edit&amp;section=5\" title=\"Edit section: Piracy concerns\">edit</a><span class=\"mw-editsection-bracket\">]</span></span></h2>\n",
       "<p>In November 2015, Udemy was accused of publishing and profiting from pirated courses.<sup class=\"reference\" id=\"cite_ref-36\"><a href=\"#cite_note-36\">[36]</a></sup><sup class=\"reference\" id=\"cite_ref-37\"><a href=\"#cite_note-37\">[37]</a></sup><sup class=\"reference\" id=\"cite_ref-38\"><a href=\"#cite_note-38\">[38]</a></sup> The CEO at the time, Dennis Yang, responded to the accusations in a blog post and stated that Udemy did not profit from that instance of piracy.<sup class=\"reference\" id=\"cite_ref-39\"><a href=\"#cite_note-39\">[39]</a></sup>\n",
       "</p>\n",
       "<h2><span class=\"mw-headline\" id=\"References\">References</span><span class=\"mw-editsection\"><span class=\"mw-editsection-bracket\">[</span><a href=\"/w/index.php?title=Udemy&amp;action=edit&amp;section=6\" title=\"Edit section: References\">edit</a><span class=\"mw-editsection-bracket\">]</span></span></h2>\n",
       "<div class=\"reflist columns references-column-width\" style=\"-moz-column-width: 30em; -webkit-column-width: 30em; column-width: 30em; list-style-type: decimal;\">\n",
       "<ol class=\"references\">\n",
       "<li id=\"cite_note-1\"><span class=\"mw-cite-backlink\"><b><a href=\"#cite_ref-1\">^</a></b></span> <span class=\"reference-text\"><cite class=\"citation web cs1\"><a class=\"external text\" href=\"https://about.udemy.com/company//\" rel=\"nofollow\">\"Our origins\"</a>. <i>VentureBeat</i>. 2016-06-02<span class=\"reference-accessdate\">. Retrieved <span class=\"nowrap\">2017-12-12</span></span>.</cite><span class=\"Z3988\" title=\"ctx_ver=Z39.88-2004&amp;rft_val_fmt=info%3Aofi%2Ffmt%3Akev%3Amtx%3Ajournal&amp;rft.genre=unknown&amp;rft.jtitle=VentureBeat&amp;rft.atitle=Our+origins&amp;rft.date=2016-06-02&amp;rft_id=https%3A%2F%2Fabout.udemy.com%2Fcompany%2F%2F&amp;rfr_id=info%3Asid%2Fen.wikipedia.org%3AUdemy\"></span><style data-mw-deduplicate=\"TemplateStyles:r951705291\">.mw-parser-output cite.citation{font-style:inherit}.mw-parser-output .citation q{quotes:\"\\\"\"\"\\\"\"\"'\"\"'\"}.mw-parser-output .id-lock-free a,.mw-parser-output .citation .cs1-lock-free a{background-image:url(\"//upload.wikimedia.org/wikipedia/commons/thumb/6/65/Lock-green.svg/9px-Lock-green.svg.png\");background-image:linear-gradient(transparent,transparent),url(\"//upload.wikimedia.org/wikipedia/commons/6/65/Lock-green.svg\");background-repeat:no-repeat;background-size:9px;background-position:right .1em center}.mw-parser-output .id-lock-limited a,.mw-parser-output .id-lock-registration a,.mw-parser-output .citation .cs1-lock-limited a,.mw-parser-output .citation .cs1-lock-registration a{background-image:url(\"//upload.wikimedia.org/wikipedia/commons/thumb/d/d6/Lock-gray-alt-2.svg/9px-Lock-gray-alt-2.svg.png\");background-image:linear-gradient(transparent,transparent),url(\"//upload.wikimedia.org/wikipedia/commons/d/d6/Lock-gray-alt-2.svg\");background-repeat:no-repeat;background-size:9px;background-position:right .1em center}.mw-parser-output .id-lock-subscription a,.mw-parser-output .citation .cs1-lock-subscription a{background-image:url(\"//upload.wikimedia.org/wikipedia/commons/thumb/a/aa/Lock-red-alt-2.svg/9px-Lock-red-alt-2.svg.png\");background-image:linear-gradient(transparent,transparent),url(\"//upload.wikimedia.org/wikipedia/commons/a/aa/Lock-red-alt-2.svg\");background-repeat:no-repeat;background-size:9px;background-position:right .1em center}.mw-parser-output .cs1-subscription,.mw-parser-output .cs1-registration{color:#555}.mw-parser-output .cs1-subscription span,.mw-parser-output .cs1-registration span{border-bottom:1px dotted;cursor:help}.mw-parser-output .cs1-ws-icon a{background-image:url(\"//upload.wikimedia.org/wikipedia/commons/thumb/4/4c/Wikisource-logo.svg/12px-Wikisource-logo.svg.png\");background-image:linear-gradient(transparent,transparent),url(\"//upload.wikimedia.org/wikipedia/commons/4/4c/Wikisource-logo.svg\");background-repeat:no-repeat;background-size:12px;background-position:right .1em center}.mw-parser-output code.cs1-code{color:inherit;background:inherit;border:inherit;padding:inherit}.mw-parser-output .cs1-hidden-error{display:none;font-size:100%}.mw-parser-output .cs1-visible-error{font-size:100%}.mw-parser-output .cs1-maint{display:none;color:#33aa33;margin-left:0.3em}.mw-parser-output .cs1-subscription,.mw-parser-output .cs1-registration,.mw-parser-output .cs1-format{font-size:95%}.mw-parser-output .cs1-kern-left,.mw-parser-output .cs1-kern-wl-left{padding-left:0.2em}.mw-parser-output .cs1-kern-right,.mw-parser-output .cs1-kern-wl-right{padding-right:0.2em}.mw-parser-output .citation .mw-selflink{font-weight:inherit}</style></span>\n",
       "</li>\n",
       "<li id=\"cite_note-techcrunch5-8-14-2\"><span class=\"mw-cite-backlink\"><b><a href=\"#cite_ref-techcrunch5-8-14_2-0\">^</a></b></span> <span class=\"reference-text\">Lomas, Natasha. <a class=\"external text\" href=\"https://techcrunch.com/2014/05/08/udemy-series-c/\" rel=\"nofollow\">Online Learning Marketplace Udemy Raises $32M To Scale Up Internationally</a>. <i>TechCrunch</i>. May 8, 2014</span>\n",
       "</li>\n",
       "<li id=\"cite_note-InfoWeek4-16-13-3\"><span class=\"mw-cite-backlink\"><b><a href=\"#cite_ref-InfoWeek4-16-13_3-0\">^</a></b></span> <span class=\"reference-text\">Carr, David F. <a class=\"external text\" href=\"http://www.informationweek.com/software/udemy-comes-to-corporate-training/d/d-id/1109571?\" rel=\"nofollow\">Udemy Comes To Corporate Training</a> <i>Information Week</i>. April 16, 2013</span>\n",
       "</li>\n",
       "<li id=\"cite_note-inverse-4\"><span class=\"mw-cite-backlink\">^ <a href=\"#cite_ref-inverse_4-0\"><sup><i><b>a</b></i></sup></a> <a href=\"#cite_ref-inverse_4-1\"><sup><i><b>b</b></i></sup></a></span> <span class=\"reference-text\"><cite class=\"citation news cs1\" id=\"CITEREFGroden2016\">Groden, Claire (June 22, 2016). <a class=\"external text\" href=\"https://www.inverse.com/article/17307-growing-pains-at-online-education-startup-udemy-hit-as-amazon-rumors-swirl\" rel=\"nofollow\">\"Udemy's Exodus, Amazon's Gain\"</a>. Inverse<span class=\"reference-accessdate\">. Retrieved <span class=\"nowrap\">25 September</span> 2016</span>.</cite><span class=\"Z3988\" title=\"ctx_ver=Z39.88-2004&amp;rft_val_fmt=info%3Aofi%2Ffmt%3Akev%3Amtx%3Ajournal&amp;rft.genre=article&amp;rft.atitle=Udemy%27s+Exodus%2C+Amazon%27s+Gain&amp;rft.date=2016-06-22&amp;rft.aulast=Groden&amp;rft.aufirst=Claire&amp;rft_id=https%3A%2F%2Fwww.inverse.com%2Farticle%2F17307-growing-pains-at-online-education-startup-udemy-hit-as-amazon-rumors-swirl&amp;rfr_id=info%3Asid%2Fen.wikipedia.org%3AUdemy\"></span><link href=\"mw-data:TemplateStyles:r951705291\" rel=\"mw-deduplicated-inline-style\"/></span>\n",
       "</li>\n",
       "<li id=\"cite_note-5\"><span class=\"mw-cite-backlink\"><b><a href=\"#cite_ref-5\">^</a></b></span> <span class=\"reference-text\"><a class=\"external free\" href=\"https://about.udemy.com/company/\" rel=\"nofollow\">https://about.udemy.com/company/</a></span>\n",
       "</li>\n",
       "<li id=\"cite_note-6\"><span class=\"mw-cite-backlink\"><b><a href=\"#cite_ref-6\">^</a></b></span> <span class=\"reference-text\"><a class=\"external text\" href=\"https://www.youtube.com/watch?v=4q-5bCx78kI/\" rel=\"nofollow\">ABCs of Udemy</a>. \"Udemy\". August 25, 2015.</span>\n",
       "</li>\n",
       "<li id=\"cite_note-7\"><span class=\"mw-cite-backlink\"><b><a href=\"#cite_ref-7\">^</a></b></span> <span class=\"reference-text\"><a class=\"external text\" href=\"http://www.udemy.com/u/erenbali/\" rel=\"nofollow\">Eren Bali biography</a>. <i>Udemy.com</i>.</span>\n",
       "</li>\n",
       "<li id=\"cite_note-venturehacks-8\"><span class=\"mw-cite-backlink\">^ <a href=\"#cite_ref-venturehacks_8-0\"><sup><i><b>a</b></i></sup></a> <a href=\"#cite_ref-venturehacks_8-1\"><sup><i><b>b</b></i></sup></a></span> <span class=\"reference-text\"><a class=\"external text\" href=\"http://venturehacks.com/articles/udemy\" rel=\"nofollow\">How Udemy got oversubscribed</a>. <i>Venture Hacks</i>. September 10, 2010.</span>\n",
       "</li>\n",
       "<li id=\"cite_note-xconomy-9\"><span class=\"mw-cite-backlink\"><b><a href=\"#cite_ref-xconomy_9-0\">^</a></b></span> <span class=\"reference-text\">Roushe, Wade. <a class=\"external text\" href=\"http://www.xconomy.com/san-francisco/2010/08/31/udemy-collects-1-million-to-expand-casual-learning-platform/\" rel=\"nofollow\">Udemy Collects $1 Million to Expand Casual Learning Platform</a>. <i>Xconomy</i>. August 31, 2010.</span>\n",
       "</li>\n",
       "<li id=\"cite_note-techcrunch-10\"><span class=\"mw-cite-backlink\">^ <a href=\"#cite_ref-techcrunch_10-0\"><sup><i><b>a</b></i></sup></a> <a href=\"#cite_ref-techcrunch_10-1\"><sup><i><b>b</b></i></sup></a></span> <span class=\"reference-text\">Toto, Serkan. <a class=\"external text\" href=\"https://techcrunch.com/2010/08/31/udemy-funding/\" rel=\"nofollow\">Udemy Scores $1M In Seed Funding, Aims To Democratize Online Learning</a>. <i>TechCrunch</i>. August 31, 2010.</span>\n",
       "</li>\n",
       "<li id=\"cite_note-tc-11\"><span class=\"mw-cite-backlink\"><b><a href=\"#cite_ref-tc_11-0\">^</a></b></span> <span class=\"reference-text\"><cite class=\"citation web cs1\" id=\"CITEREFTsotsis\">Tsotsis, Alexia. <a class=\"external text\" href=\"https://techcrunch.com/2011/10/12/crowdsourced-academy-udemy-raises-3-million/\" rel=\"nofollow\">\"Crowdsourced Learning Platform Udemy Raises $3 Million From Lightbank And Others\"</a>. TechCrunch.</cite><span class=\"Z3988\" title=\"ctx_ver=Z39.88-2004&amp;rft_val_fmt=info%3Aofi%2Ffmt%3Akev%3Amtx%3Abook&amp;rft.genre=unknown&amp;rft.btitle=Crowdsourced+Learning+Platform+Udemy+Raises+%243+Million+From+Lightbank+And+Others&amp;rft.pub=TechCrunch&amp;rft.aulast=Tsotsis&amp;rft.aufirst=Alexia&amp;rft_id=https%3A%2F%2Ftechcrunch.com%2F2011%2F10%2F12%2Fcrowdsourced-academy-udemy-raises-3-million%2F&amp;rfr_id=info%3Asid%2Fen.wikipedia.org%3AUdemy\"></span><link href=\"mw-data:TemplateStyles:r951705291\" rel=\"mw-deduplicated-inline-style\"/></span>\n",
       "</li>\n",
       "<li id=\"cite_note-twelve-12\"><span class=\"mw-cite-backlink\"><b><a href=\"#cite_ref-twelve_12-0\">^</a></b></span> <span class=\"reference-text\"><cite class=\"citation web cs1\" id=\"CITEREFEmpson\">Empson, Rip. <a class=\"external text\" href=\"https://techcrunch.com/2012/12/07/online-learning-marketplace-udemy-lands-12m-to-expand-its-course-catalog-go-cross-platform/\" rel=\"nofollow\">\"Online Learning Marketplace Udemy Lands $12M To Expand Its Course Catalog, Go Cross-Platform\"</a>. TechCrunch.</cite><span class=\"Z3988\" title=\"ctx_ver=Z39.88-2004&amp;rft_val_fmt=info%3Aofi%2Ffmt%3Akev%3Amtx%3Abook&amp;rft.genre=unknown&amp;rft.btitle=Online+Learning+Marketplace+Udemy+Lands+%2412M+To+Expand+Its+Course+Catalog%2C+Go+Cross-Platform&amp;rft.pub=TechCrunch&amp;rft.aulast=Empson&amp;rft.aufirst=Rip&amp;rft_id=https%3A%2F%2Ftechcrunch.com%2F2012%2F12%2F07%2Fonline-learning-marketplace-udemy-lands-12m-to-expand-its-course-catalog-go-cross-platform%2F&amp;rfr_id=info%3Asid%2Fen.wikipedia.org%3AUdemy\"></span><link href=\"mw-data:TemplateStyles:r951705291\" rel=\"mw-deduplicated-inline-style\"/></span>\n",
       "</li>\n",
       "<li id=\"cite_note-WSHD4-22-14-13\"><span class=\"mw-cite-backlink\"><b><a href=\"#cite_ref-WSHD4-22-14_13-0\">^</a></b></span> <span class=\"reference-text\">Kolodny, Lora. <a class=\"external text\" href=\"https://blogs.wsj.com/venturecapital/2014/04/22/udemy-appoints-dennis-yang-ceo-eren-bali-steps-aside-to-lead-product/\" rel=\"nofollow\">Udemy Appoints Dennis Yang CEO; Eren Bali Steps Aside to Lead Product</a> Venture Dispatch, <i>Wall Street Journal Digital.</i> April 22, 2014</span>\n",
       "</li>\n",
       "<li id=\"cite_note-32million-14\"><span class=\"mw-cite-backlink\"><b><a href=\"#cite_ref-32million_14-0\">^</a></b></span> <span class=\"reference-text\">Sailors, John. <a class=\"external text\" href=\"http://www.bizjournals.com/sanfrancisco/morning_call/2014/05/udemy-raises-32-million-online-learning-norwest.html\" rel=\"nofollow\">Udemy raises $32 million for online learning marketplace</a> <i>San Francisco Business Times.</i> May 8, 2014</span>\n",
       "</li>\n",
       "<li id=\"cite_note-15\"><span class=\"mw-cite-backlink\"><b><a href=\"#cite_ref-15\">^</a></b></span> <span class=\"reference-text\"><cite class=\"citation web cs1\"><a class=\"external text\" href=\"https://venturebeat.com/2016/06/02/udemy-raises-60m-from-naspers-to-grow-its-online-education-platform-globally/\" rel=\"nofollow\">\"Udemy raises $60M from Naspers to grow its online education platform globally\"</a>. <i>VentureBeat</i>. 2016-06-02<span class=\"reference-accessdate\">. Retrieved <span class=\"nowrap\">2017-06-01</span></span>.</cite><span class=\"Z3988\" title=\"ctx_ver=Z39.88-2004&amp;rft_val_fmt=info%3Aofi%2Ffmt%3Akev%3Amtx%3Ajournal&amp;rft.genre=unknown&amp;rft.jtitle=VentureBeat&amp;rft.atitle=Udemy+raises+%2460M+from+Naspers+to+grow+its+online+education+platform+globally&amp;rft.date=2016-06-02&amp;rft_id=https%3A%2F%2Fventurebeat.com%2F2016%2F06%2F02%2Fudemy-raises-60m-from-naspers-to-grow-its-online-education-platform-globally%2F&amp;rfr_id=info%3Asid%2Fen.wikipedia.org%3AUdemy\"></span><link href=\"mw-data:TemplateStyles:r951705291\" rel=\"mw-deduplicated-inline-style\"/></span>\n",
       "</li>\n",
       "<li id=\"cite_note-16\"><span class=\"mw-cite-backlink\"><b><a href=\"#cite_ref-16\">^</a></b></span> <span class=\"reference-text\"><cite class=\"citation news cs1\"><a class=\"external text\" href=\"https://about.udemy.com/udemy-news/were-excited-to-welcome-gregg-coccari-as-our-new-ceo/\" rel=\"nofollow\">\"We're Excited to Welcome Gregg Coccari as Our New CEO!\"</a>. <i>Udemy About</i>.</cite><span class=\"Z3988\" title=\"ctx_ver=Z39.88-2004&amp;rft_val_fmt=info%3Aofi%2Ffmt%3Akev%3Amtx%3Ajournal&amp;rft.genre=article&amp;rft.jtitle=Udemy+About&amp;rft.atitle=We%E2%80%99re+Excited+to+Welcome+Gregg+Coccari+as+Our+New+CEO%21&amp;rft_id=https%3A%2F%2Fabout.udemy.com%2Fudemy-news%2Fwere-excited-to-welcome-gregg-coccari-as-our-new-ceo%2F&amp;rfr_id=info%3Asid%2Fen.wikipedia.org%3AUdemy\"></span><link href=\"mw-data:TemplateStyles:r951705291\" rel=\"mw-deduplicated-inline-style\"/></span>\n",
       "</li>\n",
       "<li id=\"cite_note-17\"><span class=\"mw-cite-backlink\"><b><a href=\"#cite_ref-17\">^</a></b></span> <span class=\"reference-text\"><cite class=\"citation news cs1\" id=\"CITEREFFinder2013\">Finder, Alan (September 25, 2013). <a class=\"external text\" href=\"https://www.nytimes.com/2013/09/26/technology/personaltech/a-surge-in-growth-for-a-new-kind-of-online-course.html\" rel=\"nofollow\">\"A Surge in Growth for a New Kind of Online Course\"</a>. New York Times<span class=\"reference-accessdate\">. Retrieved <span class=\"nowrap\">25 September</span> 2016</span>.</cite><span class=\"Z3988\" title=\"ctx_ver=Z39.88-2004&amp;rft_val_fmt=info%3Aofi%2Ffmt%3Akev%3Amtx%3Ajournal&amp;rft.genre=article&amp;rft.atitle=A+Surge+in+Growth+for+a+New+Kind+of+Online+Course&amp;rft.date=2013-09-25&amp;rft.aulast=Finder&amp;rft.aufirst=Alan&amp;rft_id=https%3A%2F%2Fwww.nytimes.com%2F2013%2F09%2F26%2Ftechnology%2Fpersonaltech%2Fa-surge-in-growth-for-a-new-kind-of-online-course.html&amp;rfr_id=info%3Asid%2Fen.wikipedia.org%3AUdemy\"></span><link href=\"mw-data:TemplateStyles:r951705291\" rel=\"mw-deduplicated-inline-style\"/></span>\n",
       "</li>\n",
       "<li id=\"cite_note-ufo-18\"><span class=\"mw-cite-backlink\"><b><a href=\"#cite_ref-ufo_18-0\">^</a></b></span> <span class=\"reference-text\"><cite class=\"citation web cs1\"><a class=\"external text\" href=\"https://business.udemy.com/\" rel=\"nofollow\">\"Udemy for Business\"</a>. Udemy.</cite><span class=\"Z3988\" title=\"ctx_ver=Z39.88-2004&amp;rft_val_fmt=info%3Aofi%2Ffmt%3Akev%3Amtx%3Abook&amp;rft.genre=unknown&amp;rft.btitle=Udemy+for+Business&amp;rft.pub=Udemy&amp;rft_id=https%3A%2F%2Fbusiness.udemy.com%2F&amp;rfr_id=info%3Asid%2Fen.wikipedia.org%3AUdemy\"></span><link href=\"mw-data:TemplateStyles:r951705291\" rel=\"mw-deduplicated-inline-style\"/></span>\n",
       "</li>\n",
       "<li id=\"cite_note-19\"><span class=\"mw-cite-backlink\"><b><a href=\"#cite_ref-19\">^</a></b></span> <span class=\"reference-text\"><cite class=\"citation web cs1\" id=\"CITEREFEmpson\">Empson, Rip. <a class=\"external text\" href=\"https://techcrunch.com/2013/04/02/with-over-6000-courses-now-live-udemy-brings-its-learning-marketplace-to-ios-to-let-you-study-on-the-go/\" rel=\"nofollow\">\"With Over 6,000 Courses Now Live, Udemy Brings Its Learning Marketplace To iOS To Let You Study On The Go\"</a>. <i>TechCrunch</i>. AOL<span class=\"reference-accessdate\">. Retrieved <span class=\"nowrap\">4 May</span> 2013</span>.</cite><span class=\"Z3988\" title=\"ctx_ver=Z39.88-2004&amp;rft_val_fmt=info%3Aofi%2Ffmt%3Akev%3Amtx%3Ajournal&amp;rft.genre=unknown&amp;rft.jtitle=TechCrunch&amp;rft.atitle=With+Over+6%2C000+Courses+Now+Live%2C+Udemy+Brings+Its+Learning+Marketplace+To+iOS+To+Let+You+Study+On+The+Go&amp;rft.aulast=Empson&amp;rft.aufirst=Rip&amp;rft_id=https%3A%2F%2Ftechcrunch.com%2F2013%2F04%2F02%2Fwith-over-6000-courses-now-live-udemy-brings-its-learning-marketplace-to-ios-to-let-you-study-on-the-go%2F&amp;rfr_id=info%3Asid%2Fen.wikipedia.org%3AUdemy\"></span><link href=\"mw-data:TemplateStyles:r951705291\" rel=\"mw-deduplicated-inline-style\"/></span>\n",
       "</li>\n",
       "<li id=\"cite_note-ios-20\"><span class=\"mw-cite-backlink\"><b><a href=\"#cite_ref-ios_20-0\">^</a></b></span> <span class=\"reference-text\"><cite class=\"citation web cs1\" id=\"CITEREFHeussner\">Heussner, Ki Mae. <a class=\"external text\" href=\"http://gigaom.com/2013/04/02/udemy-lands-on-mobile-so-students-can-learn-on-the-go/\" rel=\"nofollow\">\"Exclusive: Udemy lands on mobile so students can learn on the go\"</a>. Gigaom.</cite><span class=\"Z3988\" title=\"ctx_ver=Z39.88-2004&amp;rft_val_fmt=info%3Aofi%2Ffmt%3Akev%3Amtx%3Abook&amp;rft.genre=unknown&amp;rft.btitle=Exclusive%3A+Udemy+lands+on+mobile+so+students+can+learn+on+the+go&amp;rft.pub=Gigaom&amp;rft.aulast=Heussner&amp;rft.aufirst=Ki+Mae&amp;rft_id=http%3A%2F%2Fgigaom.com%2F2013%2F04%2F02%2Fudemy-lands-on-mobile-so-students-can-learn-on-the-go%2F&amp;rfr_id=info%3Asid%2Fen.wikipedia.org%3AUdemy\"></span><link href=\"mw-data:TemplateStyles:r951705291\" rel=\"mw-deduplicated-inline-style\"/></span>\n",
       "</li>\n",
       "<li id=\"cite_note-vb-21\"><span class=\"mw-cite-backlink\"><b><a href=\"#cite_ref-vb_21-0\">^</a></b></span> <span class=\"reference-text\"><cite class=\"citation web cs1\" id=\"CITEREFFarr\">Farr, Christina. <a class=\"external text\" href=\"https://venturebeat.com/2014/01/15/udemy-launches-its-android-app-to-bring-you-online-education-on-the-go/\" rel=\"nofollow\">\"Udemy launches its Android app to bring you online education on the go\"</a>. VentureBeat.</cite><span class=\"Z3988\" title=\"ctx_ver=Z39.88-2004&amp;rft_val_fmt=info%3Aofi%2Ffmt%3Akev%3Amtx%3Abook&amp;rft.genre=unknown&amp;rft.btitle=Udemy+launches+its+Android+app+to+bring+you+online+education+on+the+go&amp;rft.pub=VentureBeat&amp;rft.aulast=Farr&amp;rft.aufirst=Christina&amp;rft_id=https%3A%2F%2Fventurebeat.com%2F2014%2F01%2F15%2Fudemy-launches-its-android-app-to-bring-you-online-education-on-the-go%2F&amp;rfr_id=info%3Asid%2Fen.wikipedia.org%3AUdemy\"></span><link href=\"mw-data:TemplateStyles:r951705291\" rel=\"mw-deduplicated-inline-style\"/></span>\n",
       "</li>\n",
       "<li id=\"cite_note-g-22\"><span class=\"mw-cite-backlink\"><b><a href=\"#cite_ref-g_22-0\">^</a></b></span> <span class=\"reference-text\"><cite class=\"citation web cs1\" id=\"CITEREFHockenson\">Hockenson, Lauren. <a class=\"external text\" href=\"http://gigaom.com/2014/01/15/udemy-brings-its-course-marketplace-to-android/\" rel=\"nofollow\">\"Udemy brings its education marketplace to Android\"</a>. Gigaom.</cite><span class=\"Z3988\" title=\"ctx_ver=Z39.88-2004&amp;rft_val_fmt=info%3Aofi%2Ffmt%3Akev%3Amtx%3Abook&amp;rft.genre=unknown&amp;rft.btitle=Udemy+brings+its+education+marketplace+to+Android&amp;rft.pub=Gigaom&amp;rft.aulast=Hockenson&amp;rft.aufirst=Lauren&amp;rft_id=http%3A%2F%2Fgigaom.com%2F2014%2F01%2F15%2Fudemy-brings-its-course-marketplace-to-android%2F&amp;rfr_id=info%3Asid%2Fen.wikipedia.org%3AUdemy\"></span><link href=\"mw-data:TemplateStyles:r951705291\" rel=\"mw-deduplicated-inline-style\"/></span>\n",
       "</li>\n",
       "<li id=\"cite_note-appletv-23\"><span class=\"mw-cite-backlink\"><b><a href=\"#cite_ref-appletv_23-0\">^</a></b></span> <span class=\"reference-text\"><cite class=\"citation web cs1\"><a class=\"external text\" href=\"https://about.udemy.com/udemy-news/introducing-udemy-for-apple-tv/\" rel=\"nofollow\">\"Introducing Udemy for Apple TV\"</a>. Udemy.</cite><span class=\"Z3988\" title=\"ctx_ver=Z39.88-2004&amp;rft_val_fmt=info%3Aofi%2Ffmt%3Akev%3Amtx%3Abook&amp;rft.genre=unknown&amp;rft.btitle=Introducing+Udemy+for+Apple+TV&amp;rft.pub=Udemy&amp;rft_id=https%3A%2F%2Fabout.udemy.com%2Fudemy-news%2Fintroducing-udemy-for-apple-tv%2F&amp;rfr_id=info%3Asid%2Fen.wikipedia.org%3AUdemy\"></span><link href=\"mw-data:TemplateStyles:r951705291\" rel=\"mw-deduplicated-inline-style\"/></span>\n",
       "</li>\n",
       "<li id=\"cite_note-24\"><span class=\"mw-cite-backlink\"><b><a href=\"#cite_ref-24\">^</a></b></span> <span class=\"reference-text\"><a class=\"external free\" href=\"https://flipboard.com/topic/indiamobile/udemy-crosses-tinder-to-become-india-s-top-grossing-android-app/a-Edi8QAUIRKSU0ek4Ycga4w%3Aa%3A878906993-92fd1b03bc%2Fstartupnchill.com\" rel=\"nofollow\">https://flipboard.com/topic/indiamobile/udemy-crosses-tinder-to-become-india-s-top-grossing-android-app/a-Edi8QAUIRKSU0ek4Ycga4w%3Aa%3A878906993-92fd1b03bc%2Fstartupnchill.com</a></span>\n",
       "</li>\n",
       "<li id=\"cite_note-mooc-25\"><span class=\"mw-cite-backlink\"><b><a href=\"#cite_ref-mooc_25-0\">^</a></b></span> <span class=\"reference-text\"><cite class=\"citation web cs1\"><a class=\"external text\" href=\"http://chronicle.com/article/What-You-Need-to-Know-About/133475/\" rel=\"nofollow\">\"What You Need to Know About MOOCs\"</a>. Chronicle of Higher Education.</cite><span class=\"Z3988\" title=\"ctx_ver=Z39.88-2004&amp;rft_val_fmt=info%3Aofi%2Ffmt%3Akev%3Amtx%3Abook&amp;rft.genre=unknown&amp;rft.btitle=What+You+Need+to+Know+About+MOOCs&amp;rft.pub=Chronicle+of+Higher+Education&amp;rft_id=http%3A%2F%2Fchronicle.com%2Farticle%2FWhat-You-Need-to-Know-About%2F133475%2F&amp;rfr_id=info%3Asid%2Fen.wikipedia.org%3AUdemy\"></span><link href=\"mw-data:TemplateStyles:r951705291\" rel=\"mw-deduplicated-inline-style\"/></span>\n",
       "</li>\n",
       "<li id=\"cite_note-mo-26\"><span class=\"mw-cite-backlink\"><b><a href=\"#cite_ref-mo_26-0\">^</a></b></span> <span class=\"reference-text\"><cite class=\"citation web cs1\" id=\"CITEREFLEWIN\">LEWIN, TAMAR. <a class=\"external text\" href=\"https://www.nytimes.com/2012/03/05/education/moocs-large-courses-open-to-all-topple-campus-walls.html?pagewanted=all&amp;_r=0\" rel=\"nofollow\">\"Instruction for Masses Knocks Down Campus Walls\"</a>. New York Times.</cite><span class=\"Z3988\" title=\"ctx_ver=Z39.88-2004&amp;rft_val_fmt=info%3Aofi%2Ffmt%3Akev%3Amtx%3Abook&amp;rft.genre=unknown&amp;rft.btitle=Instruction+for+Masses+Knocks+Down+Campus+Walls&amp;rft.pub=New+York+Times&amp;rft.aulast=LEWIN&amp;rft.aufirst=TAMAR&amp;rft_id=https%3A%2F%2Fwww.nytimes.com%2F2012%2F03%2F05%2Feducation%2Fmoocs-large-courses-open-to-all-topple-campus-walls.html%3Fpagewanted%3Dall%26_r%3D0&amp;rfr_id=info%3Asid%2Fen.wikipedia.org%3AUdemy\"></span><link href=\"mw-data:TemplateStyles:r951705291\" rel=\"mw-deduplicated-inline-style\"/></span>\n",
       "</li>\n",
       "<li id=\"cite_note-ab-27\"><span class=\"mw-cite-backlink\"><b><a href=\"#cite_ref-ab_27-0\">^</a></b></span> <span class=\"reference-text\"><cite class=\"citation web cs1\" id=\"CITEREFLittlefield\">Littlefield, Jamie. <a class=\"external text\" href=\"http://distancelearn.about.com/od/isitforyou/tp/Top-Massively-Open-Online-Courses-Moocs.htm\" rel=\"nofollow\">\"Top Massively Open Online Courses (MOOCs)\"</a>. About.com.</cite><span class=\"Z3988\" title=\"ctx_ver=Z39.88-2004&amp;rft_val_fmt=info%3Aofi%2Ffmt%3Akev%3Amtx%3Abook&amp;rft.genre=unknown&amp;rft.btitle=Top+Massively+Open+Online+Courses+%28MOOCs%29&amp;rft.pub=About.com&amp;rft.aulast=Littlefield&amp;rft.aufirst=Jamie&amp;rft_id=http%3A%2F%2Fdistancelearn.about.com%2Fod%2Fisitforyou%2Ftp%2FTop-Massively-Open-Online-Courses-Moocs.htm&amp;rfr_id=info%3Asid%2Fen.wikipedia.org%3AUdemy\"></span><link href=\"mw-data:TemplateStyles:r951705291\" rel=\"mw-deduplicated-inline-style\"/></span>\n",
       "</li>\n",
       "<li id=\"cite_note-nytimes-28\"><span class=\"mw-cite-backlink\"><b><a href=\"#cite_ref-nytimes_28-0\">^</a></b></span> <span class=\"reference-text\">Lynley, Matthew. <a class=\"external text\" href=\"https://www.nytimes.com/external/venturebeat/2010/08/31/31venturebeat-online-teaching-platform-udemy-raises-1m-sti-76566.html\" rel=\"nofollow\">Online Teaching Platform Udemy Raises $1M, Still Too Cool for School</a>. <i>The New York Times</i>. August 31, 2010.</span>\n",
       "</li>\n",
       "<li id=\"cite_note-chinapost-29\"><span class=\"mw-cite-backlink\"><b><a href=\"#cite_ref-chinapost_29-0\">^</a></b></span> <span class=\"reference-text\">Chapman, Glenn. <a class=\"external text\" href=\"https://www.worldwebcourse.online\" rel=\"nofollow\">Online learning startup Free All Programming Courses</a>. <i>The China Post</i>. September 2, 2010.</span>\n",
       "</li>\n",
       "<li id=\"cite_note-fastcompany-30\"><span class=\"mw-cite-backlink\"><b><a href=\"#cite_ref-fastcompany_30-0\">^</a></b></span> <span class=\"reference-text\">Schomer, Stephanie. <a class=\"external text\" href=\"http://www.fastcompany.com/magazine/151/fast-talk-gagan-biyani.html\" rel=\"nofollow\">Udemy: A Free University for All</a>. <i>Fast Company</i>. December 2, 2010.</span>\n",
       "</li>\n",
       "<li id=\"cite_note-mashable-31\"><span class=\"mw-cite-backlink\"><b><a href=\"#cite_ref-mashable_31-0\">^</a></b></span> <span class=\"reference-text\">Van Grove, Jennifer. <a class=\"external text\" href=\"http://mashable.com/2010/05/13/udemy/\" rel=\"nofollow\">Get a Real-Life Learning Experience in Udemy’s Virtual Classrooms</a>. <i>Mashable</i>. May 13, 2010.</span>\n",
       "</li>\n",
       "<li id=\"cite_note-32\"><span class=\"mw-cite-backlink\"><b><a href=\"#cite_ref-32\">^</a></b></span> <span class=\"reference-text\"><cite class=\"citation news cs1\" id=\"CITEREFSumi_Das2012\">Sumi Das (15 May 2012). <a class=\"external text\" href=\"http://news.bbc.co.uk/2/hi/programmes/click_online/9720231.stm\" rel=\"nofollow\">\"Ivy League education free on the web\"</a>. BBC Click<span class=\"reference-accessdate\">. Retrieved <span class=\"nowrap\">15 May</span> 2012</span>.</cite><span class=\"Z3988\" title=\"ctx_ver=Z39.88-2004&amp;rft_val_fmt=info%3Aofi%2Ffmt%3Akev%3Amtx%3Ajournal&amp;rft.genre=article&amp;rft.atitle=Ivy+League+education+free+on+the+web&amp;rft.date=2012-05-15&amp;rft.au=Sumi+Das&amp;rft_id=http%3A%2F%2Fnews.bbc.co.uk%2F2%2Fhi%2Fprogrammes%2Fclick_online%2F9720231.stm&amp;rfr_id=info%3Asid%2Fen.wikipedia.org%3AUdemy\"></span><link href=\"mw-data:TemplateStyles:r951705291\" rel=\"mw-deduplicated-inline-style\"/></span>\n",
       "</li>\n",
       "<li id=\"cite_note-under-33\"><span class=\"mw-cite-backlink\"><b><a href=\"#cite_ref-under_33-0\">^</a></b></span> <span class=\"reference-text\"><cite class=\"citation web cs1\"><a class=\"external text\" href=\"https://www.forbes.com/special-report/2014/30-under-30/education.html\" rel=\"nofollow\">\"30 Under 30\"</a>. Forbes.</cite><span class=\"Z3988\" title=\"ctx_ver=Z39.88-2004&amp;rft_val_fmt=info%3Aofi%2Ffmt%3Akev%3Amtx%3Abook&amp;rft.genre=unknown&amp;rft.btitle=30+Under+30&amp;rft.pub=Forbes&amp;rft_id=https%3A%2F%2Fwww.forbes.com%2Fspecial-report%2F2014%2F30-under-30%2Feducation.html&amp;rfr_id=info%3Asid%2Fen.wikipedia.org%3AUdemy\"></span><link href=\"mw-data:TemplateStyles:r951705291\" rel=\"mw-deduplicated-inline-style\"/></span>\n",
       "</li>\n",
       "<li id=\"cite_note-34\"><span class=\"mw-cite-backlink\"><b><a href=\"#cite_ref-34\">^</a></b></span> <span class=\"reference-text\">Eckert, Barton. <a class=\"external text\" href=\"http://www.bizjournals.com/washington/news/2011/11/11/strayer-buys-jack-welch-management.html\" rel=\"nofollow\">Strayer Education buys Jack Welch Management Institute</a> Washington Business Journal, November 11, 2001.</span>\n",
       "</li>\n",
       "<li id=\"cite_note-35\"><span class=\"mw-cite-backlink\"><b><a href=\"#cite_ref-35\">^</a></b></span> <span class=\"reference-text\"><a class=\"external text\" href=\"http://www.advfn.com/news_The-Jack-Welch-Management-Institute-and-Udemy-Join_55098528.html\" rel=\"nofollow\">The Jack Welch Management Institute and Udemy Join Forces to Deliver Online Management Training Courses</a> AVFN.com.</span>\n",
       "</li>\n",
       "<li id=\"cite_note-36\"><span class=\"mw-cite-backlink\"><b><a href=\"#cite_ref-36\">^</a></b></span> <span class=\"reference-text\"><cite class=\"citation web cs1\"><a class=\"external text\" href=\"https://medium.com/@robconery/how-udemy-is-profiting-from-piracy-5638b929ffca\" rel=\"nofollow\">\"How Udemy Is Profiting From Piracy\"</a>. <i>Medium</i><span class=\"reference-accessdate\">. Retrieved <span class=\"nowrap\">2015-11-28</span></span>.</cite><span class=\"Z3988\" title=\"ctx_ver=Z39.88-2004&amp;rft_val_fmt=info%3Aofi%2Ffmt%3Akev%3Amtx%3Ajournal&amp;rft.genre=unknown&amp;rft.jtitle=Medium&amp;rft.atitle=How+Udemy+Is+Profiting+From+Piracy&amp;rft_id=https%3A%2F%2Fmedium.com%2F%40robconery%2Fhow-udemy-is-profiting-from-piracy-5638b929ffca&amp;rfr_id=info%3Asid%2Fen.wikipedia.org%3AUdemy\"></span><link href=\"mw-data:TemplateStyles:r951705291\" rel=\"mw-deduplicated-inline-style\"/></span>\n",
       "</li>\n",
       "<li id=\"cite_note-37\"><span class=\"mw-cite-backlink\"><b><a href=\"#cite_ref-37\">^</a></b></span> <span class=\"reference-text\"><cite class=\"citation news cs1\" id=\"CITEREFDave_Lee2015\">Dave Lee (2015-11-30). <a class=\"external text\" href=\"https://www.bbc.co.uk/news/technology-34952382\" rel=\"nofollow\">\"Anger at 'stolen' online courses on Udemy\"</a>. <i>BBC News</i><span class=\"reference-accessdate\">. Retrieved <span class=\"nowrap\">2015-12-05</span></span>.</cite><span class=\"Z3988\" title=\"ctx_ver=Z39.88-2004&amp;rft_val_fmt=info%3Aofi%2Ffmt%3Akev%3Amtx%3Ajournal&amp;rft.genre=article&amp;rft.jtitle=BBC+News&amp;rft.atitle=Anger+at+%E2%80%98stolen%E2%80%99+online+courses+on+Udemy&amp;rft.date=2015-11-30&amp;rft.au=Dave+Lee&amp;rft_id=https%3A%2F%2Fwww.bbc.co.uk%2Fnews%2Ftechnology-34952382&amp;rfr_id=info%3Asid%2Fen.wikipedia.org%3AUdemy\"></span><link href=\"mw-data:TemplateStyles:r951705291\" rel=\"mw-deduplicated-inline-style\"/></span>\n",
       "</li>\n",
       "<li id=\"cite_note-38\"><span class=\"mw-cite-backlink\"><b><a href=\"#cite_ref-38\">^</a></b></span> <span class=\"reference-text\"><cite class=\"citation web cs1\" id=\"CITEREFAmar_Toor2015\">Amar Toor (2015-11-29). <a class=\"external text\" href=\"https://www.theverge.com/2015/11/29/9813780/udemy-pirated-course-copyright-troy-hunt\" rel=\"nofollow\">\"Udemy faces criticism for profiting from pirated online courses\"</a>. <i>The Verge</i><span class=\"reference-accessdate\">. Retrieved <span class=\"nowrap\">2015-12-05</span></span>.</cite><span class=\"Z3988\" title=\"ctx_ver=Z39.88-2004&amp;rft_val_fmt=info%3Aofi%2Ffmt%3Akev%3Amtx%3Ajournal&amp;rft.genre=unknown&amp;rft.jtitle=The+Verge&amp;rft.atitle=Udemy+faces+criticism+for+profiting+from+pirated+online+courses&amp;rft.date=2015-11-29&amp;rft.au=Amar+Toor&amp;rft_id=https%3A%2F%2Fwww.theverge.com%2F2015%2F11%2F29%2F9813780%2Fudemy-pirated-course-copyright-troy-hunt&amp;rfr_id=info%3Asid%2Fen.wikipedia.org%3AUdemy\"></span><link href=\"mw-data:TemplateStyles:r951705291\" rel=\"mw-deduplicated-inline-style\"/></span>\n",
       "</li>\n",
       "<li id=\"cite_note-39\"><span class=\"mw-cite-backlink\"><b><a href=\"#cite_ref-39\">^</a></b></span> <span class=\"reference-text\"><cite class=\"citation web cs1\"><a class=\"external text\" href=\"https://web.archive.org/web/20151129084740/https://blog.udemy.com/maintaining-the-integrity-of-our-udemy-community/\" rel=\"nofollow\">\"Maintaining the integrity of our Udemy community\"</a>. Archived from <a class=\"external text\" href=\"https://blog.udemy.com/maintaining-the-integrity-of-our-udemy-community/\" rel=\"nofollow\">the original</a> on 2015-11-29.</cite><span class=\"Z3988\" title=\"ctx_ver=Z39.88-2004&amp;rft_val_fmt=info%3Aofi%2Ffmt%3Akev%3Amtx%3Abook&amp;rft.genre=unknown&amp;rft.btitle=Maintaining+the+integrity+of+our+Udemy+community&amp;rft_id=https%3A%2F%2Fblog.udemy.com%2Fmaintaining-the-integrity-of-our-udemy-community%2F&amp;rfr_id=info%3Asid%2Fen.wikipedia.org%3AUdemy\"></span><link href=\"mw-data:TemplateStyles:r951705291\" rel=\"mw-deduplicated-inline-style\"/></span>\n",
       "</li>\n",
       "</ol></div>\n",
       "<h2><span class=\"mw-headline\" id=\"External_links\">External links</span><span class=\"mw-editsection\"><span class=\"mw-editsection-bracket\">[</span><a href=\"/w/index.php?title=Udemy&amp;action=edit&amp;section=7\" title=\"Edit section: External links\">edit</a><span class=\"mw-editsection-bracket\">]</span></span></h2>\n",
       "<table class=\"mbox-small plainlinks sistersitebox\" role=\"presentation\" style=\"background-color:#f9f9f9;border:1px solid #aaa;color:#000\">\n",
       "<tbody><tr>\n",
       "<td class=\"mbox-image\"><img alt=\"\" class=\"noviewer\" data-file-height=\"1376\" data-file-width=\"1024\" decoding=\"async\" height=\"40\" src=\"//upload.wikimedia.org/wikipedia/en/thumb/4/4a/Commons-logo.svg/30px-Commons-logo.svg.png\" srcset=\"//upload.wikimedia.org/wikipedia/en/thumb/4/4a/Commons-logo.svg/45px-Commons-logo.svg.png 1.5x, //upload.wikimedia.org/wikipedia/en/thumb/4/4a/Commons-logo.svg/59px-Commons-logo.svg.png 2x\" width=\"30\"/></td>\n",
       "<td class=\"mbox-text plainlist\">Wikimedia Commons has media related to <i><b><a class=\"extiw\" href=\"https://commons.wikimedia.org/wiki/Special:Search/Udemy\" title=\"commons:Special:Search/Udemy\">Udemy</a></b></i>.</td></tr>\n",
       "</tbody></table>\n",
       "<ul><li><span class=\"official-website\"><span class=\"url\"><a class=\"external text\" href=\"http://www.udemy.com/\" rel=\"nofollow\">Official website</a></span></span></li></ul>\n",
       "<div aria-labelledby=\"Free_and_paid_online_education\" class=\"navbox\" role=\"navigation\" style=\"padding:3px\"><table class=\"nowraplinks mw-collapsible autocollapse navbox-inner\" style=\"border-spacing:0;background:transparent;color:inherit\"><tbody><tr><th class=\"navbox-title\" colspan=\"2\" scope=\"col\"><div class=\"plainlinks hlist navbar mini\"><ul><li class=\"nv-view\"><a href=\"/wiki/Template:Free_and_paid_online_education\" title=\"Template:Free and paid online education\"><abbr style=\";;background:none transparent;border:none;-moz-box-shadow:none;-webkit-box-shadow:none;box-shadow:none; padding:0;\" title=\"View this template\">v</abbr></a></li><li class=\"nv-talk\"><a href=\"/wiki/Template_talk:Free_and_paid_online_education\" title=\"Template talk:Free and paid online education\"><abbr style=\";;background:none transparent;border:none;-moz-box-shadow:none;-webkit-box-shadow:none;box-shadow:none; padding:0;\" title=\"Discuss this template\">t</abbr></a></li><li class=\"nv-edit\"><a class=\"external text\" href=\"https://en.wikipedia.org/w/index.php?title=Template:Free_and_paid_online_education&amp;action=edit\"><abbr style=\";;background:none transparent;border:none;-moz-box-shadow:none;-webkit-box-shadow:none;box-shadow:none; padding:0;\" title=\"Edit this template\">e</abbr></a></li></ul></div><div id=\"Free_and_paid_online_education\" style=\"font-size:114%;margin:0 4em\">Free and paid <a class=\"mw-redirect\" href=\"/wiki/Online_education\" title=\"Online education\">online education</a></div></th></tr><tr><th class=\"navbox-group\" scope=\"row\" style=\"width:1%\">Free</th><td class=\"navbox-list navbox-odd hlist\" style=\"text-align:left;border-left-width:2px;border-left-style:solid;width:100%;padding:0px\"><div style=\"padding:0em 0.25em\">\n",
       "<ul><li><a href=\"/wiki/Academic_Earth\" title=\"Academic Earth\">Academic Earth</a></li>\n",
       "<li><a href=\"/wiki/Alison_(company)\" title=\"Alison (company)\">Alison</a></li>\n",
       "<li><a href=\"/wiki/BYJU%27S\" title=\"BYJU'S\">BYJU'S</a></li>\n",
       "<li><a href=\"/wiki/Codecademy\" title=\"Codecademy\">Codecademy</a></li>\n",
       "<li><a href=\"/wiki/Coursera\" title=\"Coursera\">Coursera</a></li>\n",
       "<li><i><a href=\"/wiki/Crash_Course_(YouTube)\" title=\"Crash Course (YouTube)\">Crash Course</a></i></li>\n",
       "<li><a href=\"/wiki/Duolingo\" title=\"Duolingo\">Duolingo</a></li>\n",
       "<li><a href=\"/wiki/Edulanka\" title=\"Edulanka\">Edulanka</a></li>\n",
       "<li><a href=\"/wiki/EduKart\" title=\"EduKart\">EduKart</a></li>\n",
       "<li><a href=\"/wiki/EdX\" title=\"EdX\">edX</a></li>\n",
       "<li><a href=\"/wiki/France_Universit%C3%A9_Num%C3%A9rique\" title=\"France Université Numérique\">France Université Numérique</a></li>\n",
       "<li><a href=\"/wiki/FreeCodeCamp\" title=\"FreeCodeCamp\">freeCodeCamp</a></li>\n",
       "<li><a href=\"/wiki/FutureLearn\" title=\"FutureLearn\">FutureLearn</a></li>\n",
       "<li><a href=\"/wiki/IONISx\" title=\"IONISx\">IONISx</a></li>\n",
       "<li><a href=\"/wiki/Iversity\" title=\"Iversity\">iversity</a></li>\n",
       "<li><a href=\"/wiki/Khan_Academy\" title=\"Khan Academy\">Khan Academy</a></li>\n",
       "<li><a href=\"/wiki/MITx\" title=\"MITx\">MITx</a></li>\n",
       "<li><a href=\"/wiki/Nptel\" title=\"Nptel\">NPTEL</a></li>\n",
       "<li><a href=\"/wiki/OpenCourseWare\" title=\"OpenCourseWare\">OpenCourseWare</a></li>\n",
       "<li><a href=\"/wiki/OpenHPI\" title=\"OpenHPI\">OpenHPI</a></li>\n",
       "<li><a href=\"/wiki/OpenLearning\" title=\"OpenLearning\">OpenLearning</a></li>\n",
       "<li><a href=\"/wiki/OpenLearn\" title=\"OpenLearn\">OpenLearn</a></li>\n",
       "<li><a href=\"/wiki/Open_Universities_Australia\" title=\"Open Universities Australia\">Open Universities Australia</a></li>\n",
       "<li><a href=\"/wiki/P2PU\" title=\"P2PU\">P2PU</a></li>\n",
       "<li><a href=\"/wiki/Ruangguru\" title=\"Ruangguru\">Ruangguru</a></li>\n",
       "<li><a href=\"/wiki/SWAYAM\" title=\"SWAYAM\">SWAYAM</a></li>\n",
       "<li><a href=\"/wiki/University_of_the_People\" title=\"University of the People\">University of the People</a></li></ul>\n",
       "</div></td></tr><tr><th class=\"navbox-group\" scope=\"row\" style=\"width:1%\">Paid</th><td class=\"navbox-list navbox-even hlist\" style=\"text-align:left;border-left-width:2px;border-left-style:solid;width:100%;padding:0px\"><div style=\"padding:0em 0.25em\">\n",
       "<ul><li><a href=\"/wiki/Kadenze\" title=\"Kadenze\">Kadenze</a></li>\n",
       "<li><a href=\"/wiki/LinkedIn_Learning\" title=\"LinkedIn Learning\">LinkedIn Learning</a></li>\n",
       "<li><a href=\"/wiki/MasterClass\" title=\"MasterClass\">MasterClass</a></li>\n",
       "<li><a href=\"/wiki/Pluralsight\" title=\"Pluralsight\">Pluralsight</a></li>\n",
       "<li><a href=\"/wiki/Quipper_(company)\" title=\"Quipper (company)\">Quipper</a></li>\n",
       "<li><a href=\"/wiki/Skillshare\" title=\"Skillshare\">Skillshare</a></li>\n",
       "<li><a href=\"/wiki/Udacity\" title=\"Udacity\">Udacity</a></li>\n",
       "<li><a class=\"mw-selflink selflink\">Udemy</a></li>\n",
       "<li><a href=\"/wiki/Woz_U\" title=\"Woz U\">Woz U</a></li>\n",
       "<li><a href=\"/wiki/Shaw_Academy\" title=\"Shaw Academy\">Shaw Academy</a></li></ul>\n",
       "</div></td></tr><tr><th class=\"navbox-group\" scope=\"row\" style=\"width:1%\">Defunct</th><td class=\"navbox-list navbox-odd hlist\" style=\"text-align:left;border-left-width:2px;border-left-style:solid;width:100%;padding:0px\"><div style=\"padding:0em 0.25em\">\n",
       "<ul><li><a href=\"/wiki/China_Open_Resources_for_Education\" title=\"China Open Resources for Education\">China Open Resources for Education</a></li>\n",
       "<li><a href=\"/wiki/Eliademy\" title=\"Eliademy\">Eliademy</a></li></ul>\n",
       "</div></td></tr></tbody></table></div>\n",
       "<!-- \n",
       "NewPP limit report\n",
       "Parsed by mw1369\n",
       "Cached time: 20200711174752\n",
       "Cache expiry: 2592000\n",
       "Dynamic content: false\n",
       "Complications: [vary‐revision‐sha1]\n",
       "CPU time usage: 0.572 seconds\n",
       "Real time usage: 0.741 seconds\n",
       "Preprocessor visited node count: 2941/1000000\n",
       "Post‐expand include size: 63684/2097152 bytes\n",
       "Template argument size: 4063/2097152 bytes\n",
       "Highest expansion depth: 25/40\n",
       "Expensive parser function count: 4/500\n",
       "Unstrip recursion depth: 1/20\n",
       "Unstrip post‐expand size: 92194/5000000 bytes\n",
       "Lua time usage: 0.283/10.000 seconds\n",
       "Lua memory usage: 6.8 MB/50 MB\n",
       "Number of Wikibase entities loaded: 1/400\n",
       "-->\n",
       "<!--\n",
       "Transclusion expansion time report (%,ms,calls,template)\n",
       "100.00%  666.876      1 -total\n",
       " 35.28%  235.259      1 Template:Reflist\n",
       " 30.20%  201.393      1 Template:Infobox_dot-com_company\n",
       " 27.83%  185.585      1 Template:Infobox\n",
       " 25.33%  168.926     17 Template:Cite_web\n",
       " 12.34%   82.298     18 Template:If_empty\n",
       "  8.17%   54.478      1 Template:Short_description\n",
       "  6.01%   40.086      1 Template:Pagetype\n",
       "  5.78%   38.542      1 Template:COI\n",
       "  5.08%   33.856      1 Template:Start_date_and_age\n",
       "-->\n",
       "<!-- Saved in parser cache with key enwiki:pcache:idhash:32843712-0!canonical and timestamp 20200711174751 and revision id 964750775\n",
       " -->\n",
       "</div><noscript><img alt=\"\" height=\"1\" src=\"//en.wikipedia.org/wiki/Special:CentralAutoLogin/start?type=1x1\" style=\"border: none; position: absolute;\" title=\"\" width=\"1\"/></noscript></div>\n",
       "<div class=\"printfooter\">Retrieved from \"<a dir=\"ltr\" href=\"https://en.wikipedia.org/w/index.php?title=Udemy&amp;oldid=964750775\">https://en.wikipedia.org/w/index.php?title=Udemy&amp;oldid=964750775</a>\"</div>\n",
       "<div class=\"catlinks\" data-mw=\"interface\" id=\"catlinks\"><div class=\"mw-normal-catlinks\" id=\"mw-normal-catlinks\"><a href=\"/wiki/Help:Category\" title=\"Help:Category\">Categories</a>: <ul><li><a href=\"/wiki/Category:2010_establishments_in_California\" title=\"Category:2010 establishments in California\">2010 establishments in California</a></li><li><a href=\"/wiki/Category:500_Startups_companies\" title=\"Category:500 Startups companies\">500 Startups companies</a></li><li><a href=\"/wiki/Category:American_educational_websites\" title=\"Category:American educational websites\">American educational websites</a></li><li><a href=\"/wiki/Category:Companies_based_in_San_Francisco\" title=\"Category:Companies based in San Francisco\">Companies based in San Francisco</a></li><li><a href=\"/wiki/Category:Education_companies_established_in_2010\" title=\"Category:Education companies established in 2010\">Education companies established in 2010</a></li><li><a href=\"/wiki/Category:Educational_technology_companies_of_the_United_States\" title=\"Category:Educational technology companies of the United States\">Educational technology companies of the United States</a></li><li><a href=\"/wiki/Category:Internet_properties_established_in_2010\" title=\"Category:Internet properties established in 2010\">Internet properties established in 2010</a></li><li><a href=\"/wiki/Category:Learning_management_systems\" title=\"Category:Learning management systems\">Learning management systems</a></li><li><a href=\"/wiki/Category:Virtual_learning_environments\" title=\"Category:Virtual learning environments\">Virtual learning environments</a></li></ul></div><div class=\"mw-hidden-catlinks mw-hidden-cats-hidden\" id=\"mw-hidden-catlinks\">Hidden categories: <ul><li><a href=\"/wiki/Category:Articles_with_short_description\" title=\"Category:Articles with short description\">Articles with short description</a></li><li><a href=\"/wiki/Category:Wikipedia_articles_with_possible_conflicts_of_interest_from_December_2016\" title=\"Category:Wikipedia articles with possible conflicts of interest from December 2016\">Wikipedia articles with possible conflicts of interest from December 2016</a></li><li><a href=\"/wiki/Category:Articles_containing_potentially_dated_statements_from_September_2019\" title=\"Category:Articles containing potentially dated statements from September 2019\">Articles containing potentially dated statements from September 2019</a></li><li><a href=\"/wiki/Category:All_articles_containing_potentially_dated_statements\" title=\"Category:All articles containing potentially dated statements\">All articles containing potentially dated statements</a></li><li><a href=\"/wiki/Category:All_articles_with_unsourced_statements\" title=\"Category:All articles with unsourced statements\">All articles with unsourced statements</a></li><li><a href=\"/wiki/Category:Articles_with_unsourced_statements_from_March_2019\" title=\"Category:Articles with unsourced statements from March 2019\">Articles with unsourced statements from March 2019</a></li><li><a href=\"/wiki/Category:Wikipedia_articles_needing_clarification_from_March_2020\" title=\"Category:Wikipedia articles needing clarification from March 2020\">Wikipedia articles needing clarification from March 2020</a></li></ul></div></div>\n",
       "</div>\n",
       "</div>\n",
       "<div id=\"mw-data-after-content\">\n",
       "<div class=\"read-more-container\"></div>\n",
       "</div>\n",
       "<div id=\"mw-navigation\">\n",
       "<h2>Navigation menu</h2>\n",
       "<div id=\"mw-head\">\n",
       "<!-- Please do not use role attribute as CSS selector, it is deprecated. -->\n",
       "<nav aria-labelledby=\"p-personal-label\" class=\"vector-menu\" id=\"p-personal\" role=\"navigation\">\n",
       "<h3 id=\"p-personal-label\">\n",
       "<span>Personal tools</span>\n",
       "</h3>\n",
       "<!-- Please do not use the .body class, it is deprecated. -->\n",
       "<div class=\"body vector-menu-content\">\n",
       "<!-- Please do not use the .menu class, it is deprecated. -->\n",
       "<ul class=\"vector-menu-content-list\"><li id=\"pt-anonuserpage\">Not logged in</li><li id=\"pt-anontalk\"><a accesskey=\"n\" href=\"/wiki/Special:MyTalk\" title=\"Discussion about edits from this IP address [n]\">Talk</a></li><li id=\"pt-anoncontribs\"><a accesskey=\"y\" href=\"/wiki/Special:MyContributions\" title=\"A list of edits made from this IP address [y]\">Contributions</a></li><li id=\"pt-createaccount\"><a href=\"/w/index.php?title=Special:CreateAccount&amp;returnto=Udemy\" title=\"You are encouraged to create an account and log in; however, it is not mandatory\">Create account</a></li><li id=\"pt-login\"><a accesskey=\"o\" href=\"/w/index.php?title=Special:UserLogin&amp;returnto=Udemy\" title=\"You're encouraged to log in; however, it's not mandatory. [o]\">Log in</a></li></ul>\n",
       "</div>\n",
       "</nav>\n",
       "<div id=\"left-navigation\">\n",
       "<!-- Please do not use role attribute as CSS selector, it is deprecated. -->\n",
       "<nav aria-labelledby=\"p-namespaces-label\" class=\"vector-menu vector-menu-tabs vectorTabs\" id=\"p-namespaces\" role=\"navigation\">\n",
       "<h3 id=\"p-namespaces-label\">\n",
       "<span>Namespaces</span>\n",
       "</h3>\n",
       "<!-- Please do not use the .body class, it is deprecated. -->\n",
       "<div class=\"body vector-menu-content\">\n",
       "<!-- Please do not use the .menu class, it is deprecated. -->\n",
       "<ul class=\"vector-menu-content-list\"><li class=\"selected\" id=\"ca-nstab-main\"><a accesskey=\"c\" href=\"/wiki/Udemy\" title=\"View the content page [c]\">Article</a></li><li id=\"ca-talk\"><a accesskey=\"t\" href=\"/wiki/Talk:Udemy\" rel=\"discussion\" title=\"Discuss improvements to the content page [t]\">Talk</a></li></ul>\n",
       "</div>\n",
       "</nav>\n",
       "<!-- Please do not use role attribute as CSS selector, it is deprecated. -->\n",
       "<nav aria-labelledby=\"p-variants-label\" class=\"vector-menu-empty emptyPortlet vector-menu vector-menu-dropdown vectorMenu\" id=\"p-variants\" role=\"navigation\">\n",
       "<input aria-labelledby=\"p-variants-label\" class=\"vector-menu-checkbox vectorMenuCheckbox\" type=\"checkbox\"/>\n",
       "<h3 id=\"p-variants-label\">\n",
       "<span>Variants</span>\n",
       "</h3>\n",
       "<!-- Please do not use the .body class, it is deprecated. -->\n",
       "<div class=\"body vector-menu-content\">\n",
       "<!-- Please do not use the .menu class, it is deprecated. -->\n",
       "<ul class=\"menu vector-menu-content-list\"></ul>\n",
       "</div>\n",
       "</nav>\n",
       "</div>\n",
       "<div id=\"right-navigation\">\n",
       "<!-- Please do not use role attribute as CSS selector, it is deprecated. -->\n",
       "<nav aria-labelledby=\"p-views-label\" class=\"vector-menu vector-menu-tabs vectorTabs\" id=\"p-views\" role=\"navigation\">\n",
       "<h3 id=\"p-views-label\">\n",
       "<span>Views</span>\n",
       "</h3>\n",
       "<!-- Please do not use the .body class, it is deprecated. -->\n",
       "<div class=\"body vector-menu-content\">\n",
       "<!-- Please do not use the .menu class, it is deprecated. -->\n",
       "<ul class=\"vector-menu-content-list\"><li class=\"collapsible selected\" id=\"ca-view\"><a href=\"/wiki/Udemy\">Read</a></li><li class=\"collapsible\" id=\"ca-edit\"><a accesskey=\"e\" href=\"/w/index.php?title=Udemy&amp;action=edit\" title=\"Edit this page [e]\">Edit</a></li><li class=\"collapsible\" id=\"ca-history\"><a accesskey=\"h\" href=\"/w/index.php?title=Udemy&amp;action=history\" title=\"Past revisions of this page [h]\">View history</a></li></ul>\n",
       "</div>\n",
       "</nav>\n",
       "<!-- Please do not use role attribute as CSS selector, it is deprecated. -->\n",
       "<nav aria-labelledby=\"p-cactions-label\" class=\"vector-menu-empty emptyPortlet vector-menu vector-menu-dropdown vectorMenu\" id=\"p-cactions\" role=\"navigation\">\n",
       "<input aria-labelledby=\"p-cactions-label\" class=\"vector-menu-checkbox vectorMenuCheckbox\" type=\"checkbox\"/>\n",
       "<h3 id=\"p-cactions-label\">\n",
       "<span>More</span>\n",
       "</h3>\n",
       "<!-- Please do not use the .body class, it is deprecated. -->\n",
       "<div class=\"body vector-menu-content\">\n",
       "<!-- Please do not use the .menu class, it is deprecated. -->\n",
       "<ul class=\"menu vector-menu-content-list\"></ul>\n",
       "</div>\n",
       "</nav>\n",
       "<div id=\"p-search\" role=\"search\">\n",
       "<h3>\n",
       "<label for=\"searchInput\">Search</label>\n",
       "</h3>\n",
       "<form action=\"/w/index.php\" id=\"searchform\">\n",
       "<div id=\"simpleSearch\">\n",
       "<input accesskey=\"f\" id=\"searchInput\" name=\"search\" placeholder=\"Search Wikipedia\" title=\"Search Wikipedia [f]\" type=\"search\"/>\n",
       "<input name=\"title\" type=\"hidden\" value=\"Special:Search\"/>\n",
       "<input class=\"searchButton mw-fallbackSearchButton\" id=\"mw-searchButton\" name=\"fulltext\" title=\"Search Wikipedia for this text\" type=\"submit\" value=\"Search\"/>\n",
       "<input class=\"searchButton\" id=\"searchButton\" name=\"go\" title=\"Go to a page with this exact name if it exists\" type=\"submit\" value=\"Go\"/>\n",
       "</div>\n",
       "</form>\n",
       "</div>\n",
       "</div>\n",
       "</div>\n",
       "<div id=\"mw-panel\">\n",
       "<div id=\"p-logo\" role=\"banner\">\n",
       "<a class=\"mw-wiki-logo\" href=\"/wiki/Main_Page\" title=\"Visit the main page\"></a>\n",
       "</div>\n",
       "<!-- Please do not use role attribute as CSS selector, it is deprecated. -->\n",
       "<nav aria-labelledby=\"p-navigation-label\" class=\"vector-menu vector-menu-portal portal portal-first\" id=\"p-navigation\" role=\"navigation\">\n",
       "<h3 id=\"p-navigation-label\">\n",
       "<span>Navigation</span>\n",
       "</h3>\n",
       "<!-- Please do not use the .body class, it is deprecated. -->\n",
       "<div class=\"body vector-menu-content\">\n",
       "<!-- Please do not use the .menu class, it is deprecated. -->\n",
       "<ul class=\"vector-menu-content-list\"><li id=\"n-mainpage-description\"><a accesskey=\"z\" href=\"/wiki/Main_Page\" title=\"Visit the main page [z]\">Main page</a></li><li id=\"n-contents\"><a href=\"/wiki/Wikipedia:Contents\" title=\"Guides to browsing Wikipedia\">Contents</a></li><li id=\"n-currentevents\"><a href=\"/wiki/Portal:Current_events\" title=\"Find background information on current events\">Current events</a></li><li id=\"n-randompage\"><a accesskey=\"x\" href=\"/wiki/Special:Random\" title=\"Visit a randomly selected article [x]\">Random article</a></li><li id=\"n-aboutsite\"><a href=\"/wiki/Wikipedia:About\" title=\"Learn about Wikipedia and how it works\">About Wikipedia</a></li><li id=\"n-contactpage\"><a href=\"//en.wikipedia.org/wiki/Wikipedia:Contact_us\" title=\"How to contact Wikipedia\">Contact us</a></li><li id=\"n-sitesupport\"><a href=\"https://donate.wikimedia.org/wiki/Special:FundraiserRedirector?utm_source=donate&amp;utm_medium=sidebar&amp;utm_campaign=C13_en.wikipedia.org&amp;uselang=en\" title=\"Support us by donating to the Wikimedia Foundation\">Donate</a></li><li id=\"n-shoplink\"><a href=\"//shop.wikimedia.org\" title=\"Visit the Wikipedia store\">Wikipedia store</a></li></ul>\n",
       "</div>\n",
       "</nav>\n",
       "<!-- Please do not use role attribute as CSS selector, it is deprecated. -->\n",
       "<nav aria-labelledby=\"p-interaction-label\" class=\"vector-menu vector-menu-portal portal\" id=\"p-interaction\" role=\"navigation\">\n",
       "<h3 id=\"p-interaction-label\">\n",
       "<span>Contribute</span>\n",
       "</h3>\n",
       "<!-- Please do not use the .body class, it is deprecated. -->\n",
       "<div class=\"body vector-menu-content\">\n",
       "<!-- Please do not use the .menu class, it is deprecated. -->\n",
       "<ul class=\"vector-menu-content-list\"><li id=\"n-help\"><a href=\"/wiki/Help:Contents\" title=\"Guidance on how to use and edit Wikipedia\">Help</a></li><li id=\"n-portal\"><a href=\"/wiki/Wikipedia:Community_portal\" title=\"About the project, what you can do, where to find things\">Community portal</a></li><li id=\"n-recentchanges\"><a accesskey=\"r\" href=\"/wiki/Special:RecentChanges\" title=\"A list of recent changes to Wikipedia [r]\">Recent changes</a></li><li id=\"n-upload\"><a href=\"/wiki/Wikipedia:File_Upload_Wizard\" title=\"Add images or other media for use on Wikipedia\">Upload file</a></li></ul>\n",
       "</div>\n",
       "</nav>\n",
       "<!-- Please do not use role attribute as CSS selector, it is deprecated. -->\n",
       "<nav aria-labelledby=\"p-tb-label\" class=\"vector-menu vector-menu-portal portal\" id=\"p-tb\" role=\"navigation\">\n",
       "<h3 id=\"p-tb-label\">\n",
       "<span>Tools</span>\n",
       "</h3>\n",
       "<!-- Please do not use the .body class, it is deprecated. -->\n",
       "<div class=\"body vector-menu-content\">\n",
       "<!-- Please do not use the .menu class, it is deprecated. -->\n",
       "<ul class=\"vector-menu-content-list\"><li id=\"t-whatlinkshere\"><a accesskey=\"j\" href=\"/wiki/Special:WhatLinksHere/Udemy\" title=\"List of all English Wikipedia pages containing links to this page [j]\">What links here</a></li><li id=\"t-recentchangeslinked\"><a accesskey=\"k\" href=\"/wiki/Special:RecentChangesLinked/Udemy\" rel=\"nofollow\" title=\"Recent changes in pages linked from this page [k]\">Related changes</a></li><li id=\"t-upload\"><a accesskey=\"u\" href=\"/wiki/Wikipedia:File_Upload_Wizard\" title=\"Upload files [u]\">Upload file</a></li><li id=\"t-specialpages\"><a accesskey=\"q\" href=\"/wiki/Special:SpecialPages\" title=\"A list of all special pages [q]\">Special pages</a></li><li id=\"t-permalink\"><a href=\"/w/index.php?title=Udemy&amp;oldid=964750775\" title=\"Permanent link to this revision of this page\">Permanent link</a></li><li id=\"t-info\"><a href=\"/w/index.php?title=Udemy&amp;action=info\" title=\"More information about this page\">Page information</a></li><li id=\"t-cite\"><a href=\"/w/index.php?title=Special:CiteThisPage&amp;page=Udemy&amp;id=964750775&amp;wpFormIdentifier=titleform\" title=\"Information on how to cite this page\">Cite this page</a></li><li id=\"t-wikibase\"><a accesskey=\"g\" href=\"https://www.wikidata.org/wiki/Special:EntityPage/Q7877165\" title=\"Structured data on this page hosted by Wikidata [g]\">Wikidata item</a></li></ul>\n",
       "</div>\n",
       "</nav>\n",
       "<!-- Please do not use role attribute as CSS selector, it is deprecated. -->\n",
       "<nav aria-labelledby=\"p-coll-print_export-label\" class=\"vector-menu vector-menu-portal portal\" id=\"p-coll-print_export\" role=\"navigation\">\n",
       "<h3 id=\"p-coll-print_export-label\">\n",
       "<span>Print/export</span>\n",
       "</h3>\n",
       "<!-- Please do not use the .body class, it is deprecated. -->\n",
       "<div class=\"body vector-menu-content\">\n",
       "<!-- Please do not use the .menu class, it is deprecated. -->\n",
       "<ul class=\"vector-menu-content-list\"><li id=\"coll-download-as-rl\"><a href=\"/w/index.php?title=Special:ElectronPdf&amp;page=Udemy&amp;action=show-download-screen\" title=\"Download this page as a PDF file\">Download as PDF</a></li><li id=\"t-print\"><a accesskey=\"p\" href=\"/w/index.php?title=Udemy&amp;printable=yes\" title=\"Printable version of this page [p]\">Printable version</a></li></ul>\n",
       "</div>\n",
       "</nav>\n",
       "<!-- Please do not use role attribute as CSS selector, it is deprecated. -->\n",
       "<nav aria-labelledby=\"p-wikibase-otherprojects-label\" class=\"vector-menu vector-menu-portal portal\" id=\"p-wikibase-otherprojects\" role=\"navigation\">\n",
       "<h3 id=\"p-wikibase-otherprojects-label\">\n",
       "<span>In other projects</span>\n",
       "</h3>\n",
       "<!-- Please do not use the .body class, it is deprecated. -->\n",
       "<div class=\"body vector-menu-content\">\n",
       "<!-- Please do not use the .menu class, it is deprecated. -->\n",
       "<ul class=\"vector-menu-content-list\"><li class=\"wb-otherproject-link wb-otherproject-commons\"><a href=\"https://commons.wikimedia.org/wiki/Category:Udemy\" hreflang=\"en\">Wikimedia Commons</a></li></ul>\n",
       "</div>\n",
       "</nav>\n",
       "<!-- Please do not use role attribute as CSS selector, it is deprecated. -->\n",
       "<nav aria-labelledby=\"p-lang-label\" class=\"vector-menu vector-menu-portal portal\" id=\"p-lang\" role=\"navigation\">\n",
       "<h3 id=\"p-lang-label\">\n",
       "<span>Languages</span>\n",
       "</h3>\n",
       "<!-- Please do not use the .body class, it is deprecated. -->\n",
       "<div class=\"body vector-menu-content\">\n",
       "<!-- Please do not use the .menu class, it is deprecated. -->\n",
       "<ul class=\"vector-menu-content-list\"><li class=\"interlanguage-link interwiki-ro\"><a class=\"interlanguage-link-target\" href=\"https://ro.wikipedia.org/wiki/Udemy\" hreflang=\"ro\" lang=\"ro\" title=\"Udemy – Romanian\">Română</a></li><li class=\"interlanguage-link interwiki-ca\"><a class=\"interlanguage-link-target\" href=\"https://ca.wikipedia.org/wiki/Udemy\" hreflang=\"ca\" lang=\"ca\" title=\"Udemy – Catalan\">Català</a></li><li class=\"interlanguage-link interwiki-hy\"><a class=\"interlanguage-link-target\" href=\"https://hy.wikipedia.org/wiki/Udemy\" hreflang=\"hy\" lang=\"hy\" title=\"Udemy – Armenian\">Հայերեն</a></li><li class=\"interlanguage-link interwiki-es\"><a class=\"interlanguage-link-target\" href=\"https://es.wikipedia.org/wiki/Udemy\" hreflang=\"es\" lang=\"es\" title=\"Udemy – Spanish\">Español</a></li><li class=\"interlanguage-link interwiki-ar\"><a class=\"interlanguage-link-target\" href=\"https://ar.wikipedia.org/wiki/%D9%8A%D9%88%D8%AF%D9%8A%D9%85%D9%8A\" hreflang=\"ar\" lang=\"ar\" title=\"يوديمي – Arabic\">العربية</a></li><li class=\"interlanguage-link interwiki-pt\"><a class=\"interlanguage-link-target\" href=\"https://pt.wikipedia.org/wiki/Udemy\" hreflang=\"pt\" lang=\"pt\" title=\"Udemy – Portuguese\">Português</a></li><li class=\"interlanguage-link interwiki-my\"><a class=\"interlanguage-link-target\" href=\"https://my.wikipedia.org/wiki/%E1%80%9A%E1%80%B0%E1%80%92%E1%80%99%E1%80%AD\" hreflang=\"my\" lang=\"my\" title=\"ယူဒမိ – Burmese\">မြန်မာဘာသာ</a></li><li class=\"interlanguage-link interwiki-tr\"><a class=\"interlanguage-link-target\" href=\"https://tr.wikipedia.org/wiki/Udemy\" hreflang=\"tr\" lang=\"tr\" title=\"Udemy – Turkish\">Türkçe</a></li><li class=\"interlanguage-link interwiki-fr\"><a class=\"interlanguage-link-target\" href=\"https://fr.wikipedia.org/wiki/Udemy\" hreflang=\"fr\" lang=\"fr\" title=\"Udemy – French\">Français</a></li><li class=\"interlanguage-link interwiki-sq\"><a class=\"interlanguage-link-target\" href=\"https://sq.wikipedia.org/wiki/Udemy\" hreflang=\"sq\" lang=\"sq\" title=\"Udemy – Albanian\">Shqip</a></li><li class=\"interlanguage-link interwiki-bn\"><a class=\"interlanguage-link-target\" href=\"https://bn.wikipedia.org/wiki/%E0%A6%87%E0%A6%89%E0%A6%A1%E0%A7%87%E0%A6%AE%E0%A6%BF\" hreflang=\"bn\" lang=\"bn\" title=\"ইউডেমি – Bangla\">বাংলা</a></li><li class=\"interlanguage-link interwiki-de\"><a class=\"interlanguage-link-target\" href=\"https://de.wikipedia.org/wiki/Udemy\" hreflang=\"de\" lang=\"de\" title=\"Udemy – German\">Deutsch</a></li><li class=\"interlanguage-link interwiki-ko\"><a class=\"interlanguage-link-target\" href=\"https://ko.wikipedia.org/wiki/%EC%9C%A0%EB%8D%B0%EB%AF%B8\" hreflang=\"ko\" lang=\"ko\" title=\"유데미 – Korean\">한국어</a></li></ul>\n",
       "<div class=\"after-portlet after-portlet-lang\"><span class=\"wb-langlinks-edit wb-langlinks-link\"><a class=\"wbc-editpage\" href=\"https://www.wikidata.org/wiki/Special:EntityPage/Q7877165#sitelinks-wikipedia\" title=\"Edit interlanguage links\">Edit links</a></span></div>\n",
       "</div>\n",
       "</nav>\n",
       "</div>\n",
       "</div>\n",
       "<footer class=\"mw-footer\" id=\"footer\" role=\"contentinfo\">\n",
       "<ul id=\"footer-info\">\n",
       "<li id=\"footer-info-lastmod\"> This page was last edited on 27 June 2020, at 10:42<span class=\"anonymous-show\"> (UTC)</span>.</li>\n",
       "<li id=\"footer-info-copyright\">Text is available under the <a href=\"//en.wikipedia.org/wiki/Wikipedia:Text_of_Creative_Commons_Attribution-ShareAlike_3.0_Unported_License\" rel=\"license\">Creative Commons Attribution-ShareAlike License</a><a href=\"//creativecommons.org/licenses/by-sa/3.0/\" rel=\"license\" style=\"display:none;\"></a>;\n",
       "additional terms may apply.  By using this site, you agree to the <a href=\"//foundation.wikimedia.org/wiki/Terms_of_Use\">Terms of Use</a> and <a href=\"//foundation.wikimedia.org/wiki/Privacy_policy\">Privacy Policy</a>. Wikipedia® is a registered trademark of the <a href=\"//www.wikimediafoundation.org/\">Wikimedia Foundation, Inc.</a>, a non-profit organization.</li>\n",
       "</ul>\n",
       "<ul id=\"footer-places\">\n",
       "<li id=\"footer-places-privacy\"><a class=\"extiw\" href=\"https://foundation.wikimedia.org/wiki/Privacy_policy\" title=\"wmf:Privacy policy\">Privacy policy</a></li>\n",
       "<li id=\"footer-places-about\"><a href=\"/wiki/Wikipedia:About\" title=\"Wikipedia:About\">About Wikipedia</a></li>\n",
       "<li id=\"footer-places-disclaimer\"><a href=\"/wiki/Wikipedia:General_disclaimer\" title=\"Wikipedia:General disclaimer\">Disclaimers</a></li>\n",
       "<li id=\"footer-places-contact\"><a href=\"//en.wikipedia.org/wiki/Wikipedia:Contact_us\">Contact Wikipedia</a></li>\n",
       "<li id=\"footer-places-developers\"><a href=\"https://www.mediawiki.org/wiki/Special:MyLanguage/How_to_contribute\">Developers</a></li>\n",
       "<li id=\"footer-places-statslink\"><a href=\"https://stats.wikimedia.org/#/en.wikipedia.org\">Statistics</a></li>\n",
       "<li id=\"footer-places-cookiestatement\"><a href=\"https://foundation.wikimedia.org/wiki/Cookie_statement\">Cookie statement</a></li>\n",
       "<li id=\"footer-places-mobileview\"><a class=\"noprint stopMobileRedirectToggle\" href=\"//en.m.wikipedia.org/w/index.php?title=Udemy&amp;mobileaction=toggle_view_mobile\">Mobile view</a></li>\n",
       "</ul>\n",
       "<ul class=\"noprint\" id=\"footer-icons\">\n",
       "<li id=\"footer-copyrightico\"><a href=\"https://wikimediafoundation.org/\"><img alt=\"Wikimedia Foundation\" height=\"31\" loading=\"lazy\" src=\"/static/images/wikimedia-button.png\" srcset=\"/static/images/wikimedia-button-1.5x.png 1.5x, /static/images/wikimedia-button-2x.png 2x\" width=\"88\"/></a></li>\n",
       "<li id=\"footer-poweredbyico\"><a href=\"https://www.mediawiki.org/\"><img alt=\"Powered by MediaWiki\" height=\"31\" loading=\"lazy\" src=\"/static/images/poweredby_mediawiki_88x31.png\" srcset=\"/static/images/poweredby_mediawiki_132x47.png 1.5x, /static/images/poweredby_mediawiki_176x62.png 2x\" width=\"88\"/></a></li>\n",
       "</ul>\n",
       "<div style=\"clear: both;\"></div>\n",
       "</footer>\n",
       "<script>(RLQ=window.RLQ||[]).push(function(){mw.config.set({\"wgPageParseReport\":{\"limitreport\":{\"cputime\":\"0.572\",\"walltime\":\"0.741\",\"ppvisitednodes\":{\"value\":2941,\"limit\":1000000},\"postexpandincludesize\":{\"value\":63684,\"limit\":2097152},\"templateargumentsize\":{\"value\":4063,\"limit\":2097152},\"expansiondepth\":{\"value\":25,\"limit\":40},\"expensivefunctioncount\":{\"value\":4,\"limit\":500},\"unstrip-depth\":{\"value\":1,\"limit\":20},\"unstrip-size\":{\"value\":92194,\"limit\":5000000},\"entityaccesscount\":{\"value\":1,\"limit\":400},\"timingprofile\":[\"100.00%  666.876      1 -total\",\" 35.28%  235.259      1 Template:Reflist\",\" 30.20%  201.393      1 Template:Infobox_dot-com_company\",\" 27.83%  185.585      1 Template:Infobox\",\" 25.33%  168.926     17 Template:Cite_web\",\" 12.34%   82.298     18 Template:If_empty\",\"  8.17%   54.478      1 Template:Short_description\",\"  6.01%   40.086      1 Template:Pagetype\",\"  5.78%   38.542      1 Template:COI\",\"  5.08%   33.856      1 Template:Start_date_and_age\"]},\"scribunto\":{\"limitreport-timeusage\":{\"value\":\"0.283\",\"limit\":\"10.000\"},\"limitreport-memusage\":{\"value\":7127638,\"limit\":52428800}},\"cachereport\":{\"origin\":\"mw1369\",\"timestamp\":\"20200711174752\",\"ttl\":2592000,\"transientcontent\":false}}});});</script>\n",
       "<script type=\"application/ld+json\">{\"@context\":\"https:\\/\\/schema.org\",\"@type\":\"Article\",\"name\":\"Udemy\",\"url\":\"https:\\/\\/en.wikipedia.org\\/wiki\\/Udemy\",\"sameAs\":\"http:\\/\\/www.wikidata.org\\/entity\\/Q7877165\",\"mainEntity\":\"http:\\/\\/www.wikidata.org\\/entity\\/Q7877165\",\"author\":{\"@type\":\"Organization\",\"name\":\"Contributors to Wikimedia projects\"},\"publisher\":{\"@type\":\"Organization\",\"name\":\"Wikimedia Foundation, Inc.\",\"logo\":{\"@type\":\"ImageObject\",\"url\":\"https:\\/\\/www.wikimedia.org\\/static\\/images\\/wmf-hor-googpub.png\"}},\"datePublished\":\"2011-08-23T17:54:19Z\",\"dateModified\":\"2020-06-27T10:42:17Z\",\"image\":\"https:\\/\\/upload.wikimedia.org\\/wikipedia\\/en\\/b\\/b9\\/Udemy_screenshot.jpg\",\"headline\":\"online learning platform\"}</script>\n",
       "<script>(RLQ=window.RLQ||[]).push(function(){mw.config.set({\"wgBackendResponseTime\":125,\"wgHostname\":\"mw1265\"});});</script></body></html>"
      ]
     },
     "execution_count": 32,
     "metadata": {},
     "output_type": "execute_result"
    }
   ],
   "source": [
    "soup # object contains the HTML of webpage in readable format"
   ]
  },
  {
   "cell_type": "code",
   "execution_count": 25,
   "metadata": {},
   "outputs": [
    {
     "data": {
      "text/plain": [
       "'Udemy - Wikipedia'"
      ]
     },
     "execution_count": 25,
     "metadata": {},
     "output_type": "execute_result"
    }
   ],
   "source": [
    "soup.select('title')[0].text #grab the title of the webpage using the select() function -- will return a list "
   ]
  },
  {
   "cell_type": "code",
   "execution_count": 34,
   "metadata": {},
   "outputs": [
    {
     "data": {
      "text/plain": [
       "<li class=\"toclevel-1 tocsection-1\"><a href=\"#History\"><span class=\"tocnumber\">1</span> <span class=\"toctext\">History</span></a></li>"
      ]
     },
     "execution_count": 34,
     "metadata": {},
     "output_type": "execute_result"
    }
   ],
   "source": [
    "soup.select('.toclevel-1')[0] #selects all elements with class 'toclevel-1' and then selects the first element inside that returned list"
   ]
  },
  {
   "cell_type": "code",
   "execution_count": 35,
   "metadata": {},
   "outputs": [
    {
     "name": "stdout",
     "output_type": "stream",
     "text": [
      "1 History\n",
      "2 Overview\n",
      "\n",
      "2.1 Massive open online course (MOOC)\n",
      "\n",
      "\n",
      "3 Reception\n",
      "4 Piracy concerns\n",
      "5 References\n",
      "6 External links\n"
     ]
    }
   ],
   "source": [
    "for elements in soup.select('.toclevel-1'): #iterate through the list of elements and print them out\n",
    "    print(elements.text) "
   ]
  },
  {
   "cell_type": "code",
   "execution_count": 40,
   "metadata": {},
   "outputs": [
    {
     "data": {
      "text/plain": [
       "<img alt=\"Unbalanced scales.svg\" data-file-height=\"354\" data-file-width=\"400\" decoding=\"async\" height=\"40\" src=\"//upload.wikimedia.org/wikipedia/commons/thumb/f/fe/Unbalanced_scales.svg/45px-Unbalanced_scales.svg.png\" srcset=\"//upload.wikimedia.org/wikipedia/commons/thumb/f/fe/Unbalanced_scales.svg/68px-Unbalanced_scales.svg.png 1.5x, //upload.wikimedia.org/wikipedia/commons/thumb/f/fe/Unbalanced_scales.svg/90px-Unbalanced_scales.svg.png 2x\" width=\"45\"/>"
      ]
     },
     "execution_count": 40,
     "metadata": {},
     "output_type": "execute_result"
    }
   ],
   "source": [
    "first_img = soup.select('img')[0] #returns a list of all images on webpage --- get the first one of the list\n",
    "first_img"
   ]
  },
  {
   "cell_type": "code",
   "execution_count": 41,
   "metadata": {},
   "outputs": [
    {
     "data": {
      "text/plain": [
       "'//upload.wikimedia.org/wikipedia/commons/thumb/f/fe/Unbalanced_scales.svg/45px-Unbalanced_scales.svg.png'"
      ]
     },
     "execution_count": 41,
     "metadata": {},
     "output_type": "execute_result"
    }
   ],
   "source": [
    "first_img['src'] #get the source attribute of that img element."
   ]
  },
  {
   "cell_type": "code",
   "execution_count": 44,
   "metadata": {},
   "outputs": [
    {
     "data": {
      "text/plain": [
       "'45'"
      ]
     },
     "execution_count": 44,
     "metadata": {},
     "output_type": "execute_result"
    }
   ],
   "source": [
    "#You can get all existing attributes of that elemenet by specifying the KEY  \n",
    "first_img['height']\n",
    "first_img['width']"
   ]
  },
  {
   "cell_type": "code",
   "execution_count": 46,
   "metadata": {},
   "outputs": [],
   "source": [
    "img_link = requests.get('https://upload.wikimedia.org/wikipedia/commons/thumb/f/fe/Unbalanced_scales.svg/45px-Unbalanced_scales.svg.png')"
   ]
  },
  {
   "cell_type": "code",
   "execution_count": 48,
   "metadata": {},
   "outputs": [
    {
     "data": {
      "text/plain": [
       "b'\\x89PNG\\r\\n\\x1a\\n\\x00\\x00\\x00\\rIHDR\\x00\\x00\\x00-\\x00\\x00\\x00(\\x08\\x04\\x00\\x00\\x00\\xc0\\xde\\xbb\\xa2\\x00\\x00\\x00\\x04gAMA\\x00\\x00\\xb1\\x8f\\x0b\\xfca\\x05\\x00\\x00\\x00 cHRM\\x00\\x00z&\\x00\\x00\\x80\\x84\\x00\\x00\\xfa\\x00\\x00\\x00\\x80\\xe8\\x00\\x00u0\\x00\\x00\\xea`\\x00\\x00:\\x98\\x00\\x00\\x17p\\x9c\\xbaQ<\\x00\\x00\\x00\\x02bKGD\\x00\\xff\\x87\\x8f\\xcc\\xbf\\x00\\x00\\x00\\x07tIME\\x07\\xe3\\x07\\x1f\\x00\\x00+J\\xe2\\xa1\\x15\\x00\\x00\\x03\\\\IDATH\\xc7\\xcd\\xd7mh\\x95u\\x18\\xc7\\xf1\\xcfY\\x13gN\\x85\\x19&,F\\xcdejd\\xf6@\\xfa\"*K\\xb4\\x94\\xb1\\x12\\\\\\x19\\x98b+\\x12$1#2\\x92@\\x10\\x05+\\xed\\xdd\\xc4r\\x81\\x96\\xb8l5\\x97\\xad\\xb2^dE\\xb4\\x16\\x15\\xa4\\xa24\\x1f&\\xe6\\xa8\\xe9L\\xf3ak\\xdb\\xbf\\x17;;\\x9e\\xb3s/\\xcf\\xce\\x08\\xba\\xee7\\xff\\xffu]\\xf7\\x97\\xeb\\xfe\\xfd\\x1fo\\xfe\\x076\\xd9\\x0b\\xf2\\xff5#\\x96-z\\xa7`vdd\\xb4y6iV\\x9e-\\xfa\\x19\\xc1\\x87nH\\xf2\\xe4\\xb9\\xdfZ\\xdf\\xeb\\x12\\x04\\xc1w\\xd9\\xa27\\n\\x82.\\xab\\xc4\\xdc\\xeay\\x9f8\\x1fG\\x9e\\xb4\\xd5.\\xc1\\x19Wg\\x03\\x9e\\xaa\\xdb\\x9f\\xb68#8\\x1dG\\x9eW\\xef9\\xb7\\x88\\xc9uB\\xa5K\\x16\\r\\x1c\\x9co\\xb3\\xe0E\\xac\\x14ti\\xb0\\xc6tC\\x13\\xf12\\xddJT\\xfb:s\\xe4U\\xa6Y\\xe5K\\x1dq-gk\\x10<\\x91\\x96Wg\\x0ff\\nn\\xbe2\\xb4\\xc4\\x12\\xefk\\x8b\\x7fz\\x9b\\x1a\\x87\\xe3\\xedo\\xe5\\xf6\\xc9-\\xd4\\xe9Q\\xc4\\xfc\\xea\\xb5\\xfe\\x91#\\x94\\xda\\x94\\xc0tj\\xb4\\xce\\x0cC0\\xcc.A\\xad\\xbc\\xb4wVi\\x8d\\x8bs\\xb9\\x15a\\x87\\xe2\\xd0&\\x9b\\xcc3*%\\xb6B\\xb0\"b\\xa1\\\\\\xae\\xb5\\xb7\\xfe\\x08+\\xd6-xYad4\\x1a\\x9d\\xaap\\x8f\\xea \\'%\\xad\\xc2o\\x0e\\xbb\\xc6\\x89\\x01\\xcc\\x9e\\n\\xdf\\xd8\\x97\\xe8m\\xf6\\x80\\x92tt\\xae\\x85\\xaa\\xbceA\\x84\\x9e\\xd1v\\xad;\\x94\\xa9U\\x9cx\\x0e\\xf8\\xddr\\xc5\\x86\\xa4&>\\xac\\xdb8cu\\x98\\x9f\\xa1 [\\xe2#\\x93\\xfe\\x8cN\\xad\\xba\\xc2\\xe7\\x9a\\xb4\\xa8\\xf7T\\x86U\\xef\\xeb\\xc7\\x7f\\xd2\\xe9d\\xf4u\\x1e\\xf4f\\\\\\xaf\\xfb\\xdc\\x98\\xe1n\\xd8\\x11\\xe9\\xdf.$\\xa3\\x17;\\xa3\\x16\\xd4;nqF\\xe8c6Dx[\\xacK\\xee\\xe68\\xe2\\xd5Do\\xb5\\x96\\xbe\\x03\\xd1\\xcf\\xe4\\xcbU\\xddG\\xe5?\\xdc\\x95\\x9a2K0)\\xd1+\\xd2\\xe9\\x91\\x0c\\xe7u\\xcc\\xd3\\x8e\\xc6\\xb1\\xed\\xdeQ\\xd47\\xe1=_\\xa5\\xf4?\\xb5;Ct\\x0f~\\x92\\x87\\xdcmd\\xea\\x07Qj\\xa31.hJ\\xf2\\x0f\\x97\\xaf\\xc9J\\xd5\\x19i\\x1e\\xec\\xb7_\\x9aV\\xb4*F\\xbe1i\\xcb\\xbeu0\\xe7t\\x0e\\x1a\\xb4D\\xc6N\\rdk\\x8fFwY\\x1d\\x19[\\xd3\\xcf\\xac\\x1d\\x00\\x9aJ\\xdb\"\\x96\\xc3\\x1b\\x83\\xbb\\xb8\\xe4\\xc4\\x87a\\xa1\\x97\\xfc\\x95\\xf0^\\xf0\\x8a\\xc7t\\x0f\\x0e\\xdd{\\x18u[\\xab\\xd2\\x1c\\xe3\\xe58d\\xb7S\\x83\\xbfn%\\x9fsm\\x11\\xb2\\x0cZ\\x90\\xff\\xc4z\\xaa\\x1ee\\xb9\\x19\\n\\x1c\\xf5\\x93\\x1a\\x8dY\\x91\\xee4\\xd7\\x14\\xd7k\\xf3\\x99\\r\\xce\\xf6\\xdc.\\x0b\\xedU\\x9c\\x94\\xd4\\xe4\\x03?kO{\\xb9\\xd4\\x02[\\xd5\\xa5\\xf9\\x87\\x9al\\xaeq)\\x84{\\x9d\\x88\\xe1]\\xf3\\xd5y\\xddM\\xda\\x8dU\\xee\\xb6\\xac\\xaa\\xfeQ\\xb56\\x9d\\x9a-3\\xc7v\\x8f\\xc7\\x14:\\xa6U\\xb9:#Qi\\x89\\t\\xee1\\xc1\\xf0\\x8c\\xa1\\xe7\\x1d\\xb0\\xd7AU\\x16\\xe1\\x9c2;\\x14(\\xea\\xd9N\\xab\\xec\\x14ls\\\\0#\\xcbQ\\x9b%h\\xb6U\\x97\\x1ao\\x0bf\\xe6h\\xc7P{|d\\xb1\\xf5\\xb8=K\\xf4\\x14\\xac\\xf7\\xa4\\x8f}!\\x0f\\x7f3\\xc2Y\\xed\\xa6\"f\\x97\\xd0\\xdf\\xed\\xe7\\x8aV.\\xa8\\x15\\xc34\\x1d\\xce\\x19\\x01K\\x05\\x17\\xed\\xd0(8bX\\x96\\xe8<\\x07\\x05\\x8d\\xaa]\\x14,\\xebu?\\xeb\\x92 \\xf8\\xc5\\xc4A\\xac\\x91\\xf1~\\x10\\x04\\x17-Mv\\x17\\x98nb\\xf6\\xffPI\\xf8\\xe9\\nz\\x9a\\xff\\x00L\\xa5.G\\xcb\\x96)\\xd4\\x00\\x00\\x00%tEXtdate:create\\x002019-07-31T00:00:43+00:00\\xd6|H6\\x00\\x00\\x00%tEXtdate:modify\\x002019-07-31T00:00:43+00:00\\xa7!\\xf0\\x8a\\x00\\x00\\x00\\x00IEND\\xaeB`\\x82'"
      ]
     },
     "execution_count": 48,
     "metadata": {},
     "output_type": "execute_result"
    }
   ],
   "source": [
    "img_link.content #this will return the binary representation of that image"
   ]
  },
  {
   "cell_type": "code",
   "execution_count": 49,
   "metadata": {},
   "outputs": [],
   "source": [
    "f = open('my_computer_image.png','wb') #save the image into your computer "
   ]
  },
  {
   "cell_type": "code",
   "execution_count": 51,
   "metadata": {},
   "outputs": [
    {
     "data": {
      "text/plain": [
       "1108"
      ]
     },
     "execution_count": 51,
     "metadata": {},
     "output_type": "execute_result"
    }
   ],
   "source": [
    "f.write(img_link.content) #write into the file"
   ]
  },
  {
   "cell_type": "code",
   "execution_count": 52,
   "metadata": {},
   "outputs": [],
   "source": [
    "f.close() #close the file writer object"
   ]
  },
  {
   "cell_type": "code",
   "execution_count": null,
   "metadata": {},
   "outputs": [],
   "source": []
  }
 ],
 "metadata": {
  "kernelspec": {
   "display_name": "Python 3",
   "language": "python",
   "name": "python3"
  },
  "language_info": {
   "codemirror_mode": {
    "name": "ipython",
    "version": 3
   },
   "file_extension": ".py",
   "mimetype": "text/x-python",
   "name": "python",
   "nbconvert_exporter": "python",
   "pygments_lexer": "ipython3",
   "version": "3.7.4"
  }
 },
 "nbformat": 4,
 "nbformat_minor": 2
}
